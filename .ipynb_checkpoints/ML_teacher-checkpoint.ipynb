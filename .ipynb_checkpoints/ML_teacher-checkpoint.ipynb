{
 "cells": [
  {
   "cell_type": "markdown",
   "metadata": {
    "toc": true
   },
   "source": [
    "<h1>Содержание<span class=\"tocSkip\"></span></h1>\n",
    "<div class=\"toc\"><ul class=\"toc-item\"><li><span><a href=\"#Подготовка-данных\" data-toc-modified-id=\"Подготовка-данных-1\"><span class=\"toc-item-num\">1&nbsp;&nbsp;</span>Подготовка данных</a></span></li><li><span><a href=\"#Исследование-задачи\" data-toc-modified-id=\"Исследование-задачи-2\"><span class=\"toc-item-num\">2&nbsp;&nbsp;</span>Исследование задачи</a></span></li><li><span><a href=\"#Борьба-с-дисбалансом\" data-toc-modified-id=\"Борьба-с-дисбалансом-3\"><span class=\"toc-item-num\">3&nbsp;&nbsp;</span>Борьба с дисбалансом</a></span></li><li><span><a href=\"#Тестирование-модели\" data-toc-modified-id=\"Тестирование-модели-4\"><span class=\"toc-item-num\">4&nbsp;&nbsp;</span>Тестирование модели</a></span></li><li><span><a href=\"#Вывод\" data-toc-modified-id=\"Вывод-5\"><span class=\"toc-item-num\">5&nbsp;&nbsp;</span>Вывод</a></span></li><li><span><a href=\"#Чек-лист-готовности-проекта\" data-toc-modified-id=\"Чек-лист-готовности-проекта-6\"><span class=\"toc-item-num\">6&nbsp;&nbsp;</span>Чек-лист готовности проекта</a></span></li></ul></div>"
   ]
  },
  {
   "cell_type": "markdown",
   "metadata": {},
   "source": [
    "# Отток клиентов"
   ]
  },
  {
   "cell_type": "markdown",
   "metadata": {},
   "source": [
    "Из «Бета-Банка» стали уходить клиенты. Каждый месяц. Немного, но заметно. Банковские маркетологи посчитали: сохранять текущих клиентов дешевле, чем привлекать новых.\n",
    "\n",
    "Нужно спрогнозировать, уйдёт клиент из банка в ближайшее время или нет. Вам предоставлены исторические данные о поведении клиентов и расторжении договоров с банком. \n",
    "\n",
    "Постройте модель с предельно большим значением *F1*-меры. Чтобы сдать проект успешно, нужно довести метрику до 0.59. Проверьте *F1*-меру на тестовой выборке самостоятельно.\n",
    "\n",
    "Дополнительно измеряйте *AUC-ROC*, сравнивайте её значение с *F1*-мерой.\n",
    "\n",
    "Источник данных: [https://www.kaggle.com/barelydedicated/bank-customer-churn-modeling](https://www.kaggle.com/barelydedicated/bank-customer-churn-modeling)"
   ]
  },
  {
   "cell_type": "markdown",
   "metadata": {},
   "source": [
    "<b>Описание проекта</b> \n",
    "\n",
    "Нужно спрогнозировать, уйдёт клиент из банка в ближайшее время или нет. Вам предоставлены исторические данные о поведении клиентов и расторжении договоров с банком. \n",
    "\n",
    "<b>Цель исследования:</b>\n",
    "\n",
    "1. Построить модель, которая будет предсказывать, уйдет ли клиент в ближайшее время\n",
    "2. Проанализировать ее предсказания\n",
    "\n",
    "<b>Ход исследования:</b>\n",
    "\n",
    "* Загрузка данных и их подготовка \n",
    "* Разделить исходные данные на обучающую, валидационную и тестовую выборки.\n",
    "* Исследовать баланс классов\n",
    "* Рассмотреть различные модели, меняя их гиперкритерия\n",
    "* Проверка лучшей модели на тестовой выборке\n",
    "* Написать выводы"
   ]
  },
  {
   "cell_type": "code",
   "execution_count": 67,
   "metadata": {},
   "outputs": [],
   "source": [
    "import pandas as pd\n",
    "from sklearn.model_selection import train_test_split\n",
    "from sklearn.ensemble import RandomForestRegressor\n",
    "from sklearn.linear_model import LogisticRegression\n",
    "from matplotlib import pyplot as plt\n",
    "from sklearn.metrics import accuracy_score\n",
    "from sklearn.tree import DecisionTreeClassifier\n",
    "from sklearn.metrics import confusion_matrix\n",
    "from sklearn.metrics import recall_score\n",
    "from sklearn.metrics import precision_score\n",
    "from sklearn.metrics import f1_score\n",
    "from sklearn.utils import shuffle\n",
    "from sklearn.ensemble import RandomForestClassifier\n",
    "from sklearn.preprocessing import StandardScaler"
   ]
  },
  {
   "cell_type": "markdown",
   "metadata": {},
   "source": [
    "## Подготовка данных"
   ]
  },
  {
   "cell_type": "code",
   "execution_count": 68,
   "metadata": {},
   "outputs": [
    {
     "data": {
      "text/html": [
       "<div>\n",
       "<style scoped>\n",
       "    .dataframe tbody tr th:only-of-type {\n",
       "        vertical-align: middle;\n",
       "    }\n",
       "\n",
       "    .dataframe tbody tr th {\n",
       "        vertical-align: top;\n",
       "    }\n",
       "\n",
       "    .dataframe thead th {\n",
       "        text-align: right;\n",
       "    }\n",
       "</style>\n",
       "<table border=\"1\" class=\"dataframe\">\n",
       "  <thead>\n",
       "    <tr style=\"text-align: right;\">\n",
       "      <th></th>\n",
       "      <th>RowNumber</th>\n",
       "      <th>CustomerId</th>\n",
       "      <th>Surname</th>\n",
       "      <th>CreditScore</th>\n",
       "      <th>Geography</th>\n",
       "      <th>Gender</th>\n",
       "      <th>Age</th>\n",
       "      <th>Tenure</th>\n",
       "      <th>Balance</th>\n",
       "      <th>NumOfProducts</th>\n",
       "      <th>HasCrCard</th>\n",
       "      <th>IsActiveMember</th>\n",
       "      <th>EstimatedSalary</th>\n",
       "      <th>Exited</th>\n",
       "    </tr>\n",
       "  </thead>\n",
       "  <tbody>\n",
       "    <tr>\n",
       "      <th>0</th>\n",
       "      <td>1</td>\n",
       "      <td>15634602</td>\n",
       "      <td>Hargrave</td>\n",
       "      <td>619</td>\n",
       "      <td>France</td>\n",
       "      <td>Female</td>\n",
       "      <td>42</td>\n",
       "      <td>2.0</td>\n",
       "      <td>0.00</td>\n",
       "      <td>1</td>\n",
       "      <td>1</td>\n",
       "      <td>1</td>\n",
       "      <td>101348.88</td>\n",
       "      <td>1</td>\n",
       "    </tr>\n",
       "    <tr>\n",
       "      <th>1</th>\n",
       "      <td>2</td>\n",
       "      <td>15647311</td>\n",
       "      <td>Hill</td>\n",
       "      <td>608</td>\n",
       "      <td>Spain</td>\n",
       "      <td>Female</td>\n",
       "      <td>41</td>\n",
       "      <td>1.0</td>\n",
       "      <td>83807.86</td>\n",
       "      <td>1</td>\n",
       "      <td>0</td>\n",
       "      <td>1</td>\n",
       "      <td>112542.58</td>\n",
       "      <td>0</td>\n",
       "    </tr>\n",
       "    <tr>\n",
       "      <th>2</th>\n",
       "      <td>3</td>\n",
       "      <td>15619304</td>\n",
       "      <td>Onio</td>\n",
       "      <td>502</td>\n",
       "      <td>France</td>\n",
       "      <td>Female</td>\n",
       "      <td>42</td>\n",
       "      <td>8.0</td>\n",
       "      <td>159660.80</td>\n",
       "      <td>3</td>\n",
       "      <td>1</td>\n",
       "      <td>0</td>\n",
       "      <td>113931.57</td>\n",
       "      <td>1</td>\n",
       "    </tr>\n",
       "    <tr>\n",
       "      <th>3</th>\n",
       "      <td>4</td>\n",
       "      <td>15701354</td>\n",
       "      <td>Boni</td>\n",
       "      <td>699</td>\n",
       "      <td>France</td>\n",
       "      <td>Female</td>\n",
       "      <td>39</td>\n",
       "      <td>1.0</td>\n",
       "      <td>0.00</td>\n",
       "      <td>2</td>\n",
       "      <td>0</td>\n",
       "      <td>0</td>\n",
       "      <td>93826.63</td>\n",
       "      <td>0</td>\n",
       "    </tr>\n",
       "    <tr>\n",
       "      <th>4</th>\n",
       "      <td>5</td>\n",
       "      <td>15737888</td>\n",
       "      <td>Mitchell</td>\n",
       "      <td>850</td>\n",
       "      <td>Spain</td>\n",
       "      <td>Female</td>\n",
       "      <td>43</td>\n",
       "      <td>2.0</td>\n",
       "      <td>125510.82</td>\n",
       "      <td>1</td>\n",
       "      <td>1</td>\n",
       "      <td>1</td>\n",
       "      <td>79084.10</td>\n",
       "      <td>0</td>\n",
       "    </tr>\n",
       "  </tbody>\n",
       "</table>\n",
       "</div>"
      ],
      "text/plain": [
       "   RowNumber  CustomerId   Surname  CreditScore Geography  Gender  Age  \\\n",
       "0          1    15634602  Hargrave          619    France  Female   42   \n",
       "1          2    15647311      Hill          608     Spain  Female   41   \n",
       "2          3    15619304      Onio          502    France  Female   42   \n",
       "3          4    15701354      Boni          699    France  Female   39   \n",
       "4          5    15737888  Mitchell          850     Spain  Female   43   \n",
       "\n",
       "   Tenure    Balance  NumOfProducts  HasCrCard  IsActiveMember  \\\n",
       "0     2.0       0.00              1          1               1   \n",
       "1     1.0   83807.86              1          0               1   \n",
       "2     8.0  159660.80              3          1               0   \n",
       "3     1.0       0.00              2          0               0   \n",
       "4     2.0  125510.82              1          1               1   \n",
       "\n",
       "   EstimatedSalary  Exited  \n",
       "0        101348.88       1  \n",
       "1        112542.58       0  \n",
       "2        113931.57       1  \n",
       "3         93826.63       0  \n",
       "4         79084.10       0  "
      ]
     },
     "execution_count": 68,
     "metadata": {},
     "output_type": "execute_result"
    }
   ],
   "source": [
    "data = pd.read_csv('/Users/Roman/Desktop/GIT/first_pr/datasets/Churn.csv')\n",
    "data.head()"
   ]
  },
  {
   "cell_type": "code",
   "execution_count": 69,
   "metadata": {},
   "outputs": [
    {
     "name": "stdout",
     "output_type": "stream",
     "text": [
      "<class 'pandas.core.frame.DataFrame'>\n",
      "RangeIndex: 10000 entries, 0 to 9999\n",
      "Data columns (total 14 columns):\n",
      " #   Column           Non-Null Count  Dtype  \n",
      "---  ------           --------------  -----  \n",
      " 0   RowNumber        10000 non-null  int64  \n",
      " 1   CustomerId       10000 non-null  int64  \n",
      " 2   Surname          10000 non-null  object \n",
      " 3   CreditScore      10000 non-null  int64  \n",
      " 4   Geography        10000 non-null  object \n",
      " 5   Gender           10000 non-null  object \n",
      " 6   Age              10000 non-null  int64  \n",
      " 7   Tenure           9091 non-null   float64\n",
      " 8   Balance          10000 non-null  float64\n",
      " 9   NumOfProducts    10000 non-null  int64  \n",
      " 10  HasCrCard        10000 non-null  int64  \n",
      " 11  IsActiveMember   10000 non-null  int64  \n",
      " 12  EstimatedSalary  10000 non-null  float64\n",
      " 13  Exited           10000 non-null  int64  \n",
      "dtypes: float64(3), int64(8), object(3)\n",
      "memory usage: 1.1+ MB\n"
     ]
    }
   ],
   "source": [
    "data.info()"
   ]
  },
  {
   "cell_type": "code",
   "execution_count": 70,
   "metadata": {},
   "outputs": [
    {
     "data": {
      "text/html": [
       "<div>\n",
       "<style scoped>\n",
       "    .dataframe tbody tr th:only-of-type {\n",
       "        vertical-align: middle;\n",
       "    }\n",
       "\n",
       "    .dataframe tbody tr th {\n",
       "        vertical-align: top;\n",
       "    }\n",
       "\n",
       "    .dataframe thead th {\n",
       "        text-align: right;\n",
       "    }\n",
       "</style>\n",
       "<table border=\"1\" class=\"dataframe\">\n",
       "  <thead>\n",
       "    <tr style=\"text-align: right;\">\n",
       "      <th></th>\n",
       "      <th>RowNumber</th>\n",
       "      <th>CustomerId</th>\n",
       "      <th>CreditScore</th>\n",
       "      <th>Age</th>\n",
       "      <th>Tenure</th>\n",
       "      <th>Balance</th>\n",
       "      <th>NumOfProducts</th>\n",
       "      <th>HasCrCard</th>\n",
       "      <th>IsActiveMember</th>\n",
       "      <th>EstimatedSalary</th>\n",
       "      <th>Exited</th>\n",
       "    </tr>\n",
       "  </thead>\n",
       "  <tbody>\n",
       "    <tr>\n",
       "      <th>count</th>\n",
       "      <td>10000.00000</td>\n",
       "      <td>1.000000e+04</td>\n",
       "      <td>10000.000000</td>\n",
       "      <td>10000.000000</td>\n",
       "      <td>9091.000000</td>\n",
       "      <td>10000.000000</td>\n",
       "      <td>10000.000000</td>\n",
       "      <td>10000.00000</td>\n",
       "      <td>10000.000000</td>\n",
       "      <td>10000.000000</td>\n",
       "      <td>10000.000000</td>\n",
       "    </tr>\n",
       "    <tr>\n",
       "      <th>mean</th>\n",
       "      <td>5000.50000</td>\n",
       "      <td>1.569094e+07</td>\n",
       "      <td>650.528800</td>\n",
       "      <td>38.921800</td>\n",
       "      <td>4.997690</td>\n",
       "      <td>76485.889288</td>\n",
       "      <td>1.530200</td>\n",
       "      <td>0.70550</td>\n",
       "      <td>0.515100</td>\n",
       "      <td>100090.239881</td>\n",
       "      <td>0.203700</td>\n",
       "    </tr>\n",
       "    <tr>\n",
       "      <th>std</th>\n",
       "      <td>2886.89568</td>\n",
       "      <td>7.193619e+04</td>\n",
       "      <td>96.653299</td>\n",
       "      <td>10.487806</td>\n",
       "      <td>2.894723</td>\n",
       "      <td>62397.405202</td>\n",
       "      <td>0.581654</td>\n",
       "      <td>0.45584</td>\n",
       "      <td>0.499797</td>\n",
       "      <td>57510.492818</td>\n",
       "      <td>0.402769</td>\n",
       "    </tr>\n",
       "    <tr>\n",
       "      <th>min</th>\n",
       "      <td>1.00000</td>\n",
       "      <td>1.556570e+07</td>\n",
       "      <td>350.000000</td>\n",
       "      <td>18.000000</td>\n",
       "      <td>0.000000</td>\n",
       "      <td>0.000000</td>\n",
       "      <td>1.000000</td>\n",
       "      <td>0.00000</td>\n",
       "      <td>0.000000</td>\n",
       "      <td>11.580000</td>\n",
       "      <td>0.000000</td>\n",
       "    </tr>\n",
       "    <tr>\n",
       "      <th>25%</th>\n",
       "      <td>2500.75000</td>\n",
       "      <td>1.562853e+07</td>\n",
       "      <td>584.000000</td>\n",
       "      <td>32.000000</td>\n",
       "      <td>2.000000</td>\n",
       "      <td>0.000000</td>\n",
       "      <td>1.000000</td>\n",
       "      <td>0.00000</td>\n",
       "      <td>0.000000</td>\n",
       "      <td>51002.110000</td>\n",
       "      <td>0.000000</td>\n",
       "    </tr>\n",
       "    <tr>\n",
       "      <th>50%</th>\n",
       "      <td>5000.50000</td>\n",
       "      <td>1.569074e+07</td>\n",
       "      <td>652.000000</td>\n",
       "      <td>37.000000</td>\n",
       "      <td>5.000000</td>\n",
       "      <td>97198.540000</td>\n",
       "      <td>1.000000</td>\n",
       "      <td>1.00000</td>\n",
       "      <td>1.000000</td>\n",
       "      <td>100193.915000</td>\n",
       "      <td>0.000000</td>\n",
       "    </tr>\n",
       "    <tr>\n",
       "      <th>75%</th>\n",
       "      <td>7500.25000</td>\n",
       "      <td>1.575323e+07</td>\n",
       "      <td>718.000000</td>\n",
       "      <td>44.000000</td>\n",
       "      <td>7.000000</td>\n",
       "      <td>127644.240000</td>\n",
       "      <td>2.000000</td>\n",
       "      <td>1.00000</td>\n",
       "      <td>1.000000</td>\n",
       "      <td>149388.247500</td>\n",
       "      <td>0.000000</td>\n",
       "    </tr>\n",
       "    <tr>\n",
       "      <th>max</th>\n",
       "      <td>10000.00000</td>\n",
       "      <td>1.581569e+07</td>\n",
       "      <td>850.000000</td>\n",
       "      <td>92.000000</td>\n",
       "      <td>10.000000</td>\n",
       "      <td>250898.090000</td>\n",
       "      <td>4.000000</td>\n",
       "      <td>1.00000</td>\n",
       "      <td>1.000000</td>\n",
       "      <td>199992.480000</td>\n",
       "      <td>1.000000</td>\n",
       "    </tr>\n",
       "  </tbody>\n",
       "</table>\n",
       "</div>"
      ],
      "text/plain": [
       "         RowNumber    CustomerId   CreditScore           Age       Tenure  \\\n",
       "count  10000.00000  1.000000e+04  10000.000000  10000.000000  9091.000000   \n",
       "mean    5000.50000  1.569094e+07    650.528800     38.921800     4.997690   \n",
       "std     2886.89568  7.193619e+04     96.653299     10.487806     2.894723   \n",
       "min        1.00000  1.556570e+07    350.000000     18.000000     0.000000   \n",
       "25%     2500.75000  1.562853e+07    584.000000     32.000000     2.000000   \n",
       "50%     5000.50000  1.569074e+07    652.000000     37.000000     5.000000   \n",
       "75%     7500.25000  1.575323e+07    718.000000     44.000000     7.000000   \n",
       "max    10000.00000  1.581569e+07    850.000000     92.000000    10.000000   \n",
       "\n",
       "             Balance  NumOfProducts    HasCrCard  IsActiveMember  \\\n",
       "count   10000.000000   10000.000000  10000.00000    10000.000000   \n",
       "mean    76485.889288       1.530200      0.70550        0.515100   \n",
       "std     62397.405202       0.581654      0.45584        0.499797   \n",
       "min         0.000000       1.000000      0.00000        0.000000   \n",
       "25%         0.000000       1.000000      0.00000        0.000000   \n",
       "50%     97198.540000       1.000000      1.00000        1.000000   \n",
       "75%    127644.240000       2.000000      1.00000        1.000000   \n",
       "max    250898.090000       4.000000      1.00000        1.000000   \n",
       "\n",
       "       EstimatedSalary        Exited  \n",
       "count     10000.000000  10000.000000  \n",
       "mean     100090.239881      0.203700  \n",
       "std       57510.492818      0.402769  \n",
       "min          11.580000      0.000000  \n",
       "25%       51002.110000      0.000000  \n",
       "50%      100193.915000      0.000000  \n",
       "75%      149388.247500      0.000000  \n",
       "max      199992.480000      1.000000  "
      ]
     },
     "execution_count": 70,
     "metadata": {},
     "output_type": "execute_result"
    }
   ],
   "source": [
    "data.describe()"
   ]
  },
  {
   "cell_type": "code",
   "execution_count": 71,
   "metadata": {},
   "outputs": [
    {
     "data": {
      "text/plain": [
       "909"
      ]
     },
     "execution_count": 71,
     "metadata": {},
     "output_type": "execute_result"
    }
   ],
   "source": [
    "data['Tenure'].isna().sum()"
   ]
  },
  {
   "cell_type": "code",
   "execution_count": 72,
   "metadata": {},
   "outputs": [
    {
     "data": {
      "text/plain": [
       "array([ 2.,  1.,  8.,  7.,  4.,  6.,  3., 10.,  5.,  9.,  0., nan])"
      ]
     },
     "execution_count": 72,
     "metadata": {},
     "output_type": "execute_result"
    }
   ],
   "source": [
    "data['Tenure'].unique()"
   ]
  },
  {
   "cell_type": "code",
   "execution_count": 73,
   "metadata": {},
   "outputs": [
    {
     "data": {
      "text/plain": [
       "726"
      ]
     },
     "execution_count": 73,
     "metadata": {},
     "output_type": "execute_result"
    }
   ],
   "source": [
    "data.loc[(data['Tenure'].isna())&(data['Exited']==0), 'RowNumber'].count()"
   ]
  },
  {
   "cell_type": "code",
   "execution_count": 74,
   "metadata": {},
   "outputs": [],
   "source": [
    "med_ten = (data.loc[(data['Tenure'].isna()==False)&(data['Exited']==1), \n",
    "                    'Tenure'].median())\n",
    "data.loc[(data['Tenure'].isna())&(data['Exited']==1), 'Tenure'] = med_ten"
   ]
  },
  {
   "cell_type": "code",
   "execution_count": 75,
   "metadata": {
    "scrolled": true
   },
   "outputs": [
    {
     "data": {
      "text/plain": [
       "0"
      ]
     },
     "execution_count": 75,
     "metadata": {},
     "output_type": "execute_result"
    }
   ],
   "source": [
    "med_ten = (data.loc[(data['Tenure'].isna()==False)&(data['Exited']==0), \n",
    "                    'Tenure'].median())\n",
    "data.loc[(data['Tenure'].isna())&(data['Exited']==0), 'Tenure']=med_ten\n",
    "data['Tenure'].isna().sum()"
   ]
  },
  {
   "cell_type": "markdown",
   "metadata": {},
   "source": [
    "Заметил, что есть пропуски в столбце период. Заменил пропуски на медианные значения в зависимости от целевого признака."
   ]
  },
  {
   "cell_type": "code",
   "execution_count": 76,
   "metadata": {},
   "outputs": [],
   "source": [
    "data=data.drop(['Surname', 'RowNumber', 'CustomerId'], axis=1)"
   ]
  },
  {
   "cell_type": "code",
   "execution_count": 77,
   "metadata": {
    "scrolled": true
   },
   "outputs": [
    {
     "name": "stdout",
     "output_type": "stream",
     "text": [
      "<class 'pandas.core.frame.DataFrame'>\n",
      "RangeIndex: 10000 entries, 0 to 9999\n",
      "Data columns (total 11 columns):\n",
      " #   Column           Non-Null Count  Dtype  \n",
      "---  ------           --------------  -----  \n",
      " 0   CreditScore      10000 non-null  int64  \n",
      " 1   Geography        10000 non-null  object \n",
      " 2   Gender           10000 non-null  object \n",
      " 3   Age              10000 non-null  int64  \n",
      " 4   Tenure           10000 non-null  float64\n",
      " 5   Balance          10000 non-null  float64\n",
      " 6   NumOfProducts    10000 non-null  int64  \n",
      " 7   HasCrCard        10000 non-null  int64  \n",
      " 8   IsActiveMember   10000 non-null  int64  \n",
      " 9   EstimatedSalary  10000 non-null  float64\n",
      " 10  Exited           10000 non-null  int64  \n",
      "dtypes: float64(3), int64(6), object(2)\n",
      "memory usage: 859.5+ KB\n"
     ]
    }
   ],
   "source": [
    "data.info()"
   ]
  },
  {
   "cell_type": "code",
   "execution_count": 78,
   "metadata": {},
   "outputs": [
    {
     "data": {
      "text/plain": [
       "array(['France', 'Spain', 'Germany'], dtype=object)"
      ]
     },
     "execution_count": 78,
     "metadata": {},
     "output_type": "execute_result"
    }
   ],
   "source": [
    "data[\"Geography\"].unique()"
   ]
  },
  {
   "cell_type": "code",
   "execution_count": 79,
   "metadata": {},
   "outputs": [],
   "source": [
    "data_ohe = pd.get_dummies(data, drop_first=True)"
   ]
  },
  {
   "cell_type": "code",
   "execution_count": 80,
   "metadata": {},
   "outputs": [
    {
     "data": {
      "text/html": [
       "<div>\n",
       "<style scoped>\n",
       "    .dataframe tbody tr th:only-of-type {\n",
       "        vertical-align: middle;\n",
       "    }\n",
       "\n",
       "    .dataframe tbody tr th {\n",
       "        vertical-align: top;\n",
       "    }\n",
       "\n",
       "    .dataframe thead th {\n",
       "        text-align: right;\n",
       "    }\n",
       "</style>\n",
       "<table border=\"1\" class=\"dataframe\">\n",
       "  <thead>\n",
       "    <tr style=\"text-align: right;\">\n",
       "      <th></th>\n",
       "      <th>CreditScore</th>\n",
       "      <th>Age</th>\n",
       "      <th>Tenure</th>\n",
       "      <th>Balance</th>\n",
       "      <th>NumOfProducts</th>\n",
       "      <th>HasCrCard</th>\n",
       "      <th>IsActiveMember</th>\n",
       "      <th>EstimatedSalary</th>\n",
       "      <th>Exited</th>\n",
       "      <th>Geography_Germany</th>\n",
       "      <th>Geography_Spain</th>\n",
       "      <th>Gender_Male</th>\n",
       "    </tr>\n",
       "  </thead>\n",
       "  <tbody>\n",
       "    <tr>\n",
       "      <th>0</th>\n",
       "      <td>619</td>\n",
       "      <td>42</td>\n",
       "      <td>2.0</td>\n",
       "      <td>0.00</td>\n",
       "      <td>1</td>\n",
       "      <td>1</td>\n",
       "      <td>1</td>\n",
       "      <td>101348.88</td>\n",
       "      <td>1</td>\n",
       "      <td>0</td>\n",
       "      <td>0</td>\n",
       "      <td>0</td>\n",
       "    </tr>\n",
       "    <tr>\n",
       "      <th>1</th>\n",
       "      <td>608</td>\n",
       "      <td>41</td>\n",
       "      <td>1.0</td>\n",
       "      <td>83807.86</td>\n",
       "      <td>1</td>\n",
       "      <td>0</td>\n",
       "      <td>1</td>\n",
       "      <td>112542.58</td>\n",
       "      <td>0</td>\n",
       "      <td>0</td>\n",
       "      <td>1</td>\n",
       "      <td>0</td>\n",
       "    </tr>\n",
       "    <tr>\n",
       "      <th>2</th>\n",
       "      <td>502</td>\n",
       "      <td>42</td>\n",
       "      <td>8.0</td>\n",
       "      <td>159660.80</td>\n",
       "      <td>3</td>\n",
       "      <td>1</td>\n",
       "      <td>0</td>\n",
       "      <td>113931.57</td>\n",
       "      <td>1</td>\n",
       "      <td>0</td>\n",
       "      <td>0</td>\n",
       "      <td>0</td>\n",
       "    </tr>\n",
       "    <tr>\n",
       "      <th>3</th>\n",
       "      <td>699</td>\n",
       "      <td>39</td>\n",
       "      <td>1.0</td>\n",
       "      <td>0.00</td>\n",
       "      <td>2</td>\n",
       "      <td>0</td>\n",
       "      <td>0</td>\n",
       "      <td>93826.63</td>\n",
       "      <td>0</td>\n",
       "      <td>0</td>\n",
       "      <td>0</td>\n",
       "      <td>0</td>\n",
       "    </tr>\n",
       "    <tr>\n",
       "      <th>4</th>\n",
       "      <td>850</td>\n",
       "      <td>43</td>\n",
       "      <td>2.0</td>\n",
       "      <td>125510.82</td>\n",
       "      <td>1</td>\n",
       "      <td>1</td>\n",
       "      <td>1</td>\n",
       "      <td>79084.10</td>\n",
       "      <td>0</td>\n",
       "      <td>0</td>\n",
       "      <td>1</td>\n",
       "      <td>0</td>\n",
       "    </tr>\n",
       "  </tbody>\n",
       "</table>\n",
       "</div>"
      ],
      "text/plain": [
       "   CreditScore  Age  Tenure    Balance  NumOfProducts  HasCrCard  \\\n",
       "0          619   42     2.0       0.00              1          1   \n",
       "1          608   41     1.0   83807.86              1          0   \n",
       "2          502   42     8.0  159660.80              3          1   \n",
       "3          699   39     1.0       0.00              2          0   \n",
       "4          850   43     2.0  125510.82              1          1   \n",
       "\n",
       "   IsActiveMember  EstimatedSalary  Exited  Geography_Germany  \\\n",
       "0               1        101348.88       1                  0   \n",
       "1               1        112542.58       0                  0   \n",
       "2               0        113931.57       1                  0   \n",
       "3               0         93826.63       0                  0   \n",
       "4               1         79084.10       0                  0   \n",
       "\n",
       "   Geography_Spain  Gender_Male  \n",
       "0                0            0  \n",
       "1                1            0  \n",
       "2                0            0  \n",
       "3                0            0  \n",
       "4                1            0  "
      ]
     },
     "execution_count": 80,
     "metadata": {},
     "output_type": "execute_result"
    }
   ],
   "source": [
    "data_ohe.head()"
   ]
  },
  {
   "cell_type": "markdown",
   "metadata": {},
   "source": [
    "Заметил, что есть колонка и именем типа object, в данном случае она будет только путать модель. Поэтому решил от нее избавиться. Далее есть колонки с географией и полом, использовал прямое кодирование и удалял первый столбец, чтобы избежать дамми-ловушек. Использовал прямое кодирование, так как в географии 3 уникальных значений(это немного)."
   ]
  },
  {
   "cell_type": "code",
   "execution_count": 81,
   "metadata": {},
   "outputs": [],
   "source": [
    "features = data_ohe.drop('Exited', axis=1)\n",
    "target = data_ohe['Exited']"
   ]
  },
  {
   "cell_type": "code",
   "execution_count": 82,
   "metadata": {},
   "outputs": [],
   "source": [
    "features_train, features_valid, target_train, target_valid = (\n",
    "    train_test_split(features, target, test_size=0.4, random_state=12345))\n",
    "features_valid, features_test, target_valid, target_test = (\n",
    "    train_test_split(features_valid, target_valid, test_size=0.5, random_state=12345))"
   ]
  },
  {
   "cell_type": "code",
   "execution_count": 83,
   "metadata": {},
   "outputs": [
    {
     "name": "stdout",
     "output_type": "stream",
     "text": [
      "(6000, 11)\n",
      "(2000, 11)\n",
      "(2000, 11)\n"
     ]
    }
   ],
   "source": [
    "print(features_train.shape)\n",
    "print(features_valid.shape)\n",
    "print(features_test.shape)"
   ]
  },
  {
   "cell_type": "markdown",
   "metadata": {},
   "source": [
    "Разделил данные на обучающие, валидационные и тестовые в пропорции 3:1:1"
   ]
  },
  {
   "cell_type": "markdown",
   "metadata": {},
   "source": [
    "## Исследование задачи"
   ]
  },
  {
   "cell_type": "markdown",
   "metadata": {},
   "source": [
    "Решил начать с метрики accuracy для того, чтобы разобраться, есть ли вообще дисбаланс. "
   ]
  },
  {
   "cell_type": "code",
   "execution_count": 84,
   "metadata": {},
   "outputs": [],
   "source": [
    "model = LogisticRegression(random_state=12345, solver='liblinear')\n",
    "model.fit(features_train, target_train)\n",
    "predictions_valid = model.predict(features_valid)"
   ]
  },
  {
   "cell_type": "code",
   "execution_count": 85,
   "metadata": {
    "scrolled": false
   },
   "outputs": [
    {
     "name": "stdout",
     "output_type": "stream",
     "text": [
      "0    0.7963\n",
      "1    0.2037\n",
      "Name: Exited, dtype: float64\n"
     ]
    },
    {
     "data": {
      "image/png": "[encoded data removed]",
      "text/plain": [
       "<Figure size 432x288 with 1 Axes>"
      ]
     },
     "metadata": {
      "needs_background": "light"
     },
     "output_type": "display_data"
    }
   ],
   "source": [
    "frequency = data['Exited'].value_counts(normalize=True)\n",
    "print(frequency)\n",
    "frequency.plot(kind='bar');\n",
    "plt.xlabel('Класс')\n",
    "plt.ylabel('Соотношение пользователей')\n",
    "plt.title('Соотношение ушедших и оставшихся');"
   ]
  },
  {
   "cell_type": "markdown",
   "metadata": {},
   "source": [
    "Класс 0 превосходит класс 1 почти в 2.5 раз"
   ]
  },
  {
   "cell_type": "code",
   "execution_count": 86,
   "metadata": {},
   "outputs": [
    {
     "name": "stdout",
     "output_type": "stream",
     "text": [
      "0    0.9705\n",
      "1    0.0295\n",
      "dtype: float64\n"
     ]
    },
    {
     "data": {
      "image/png": "[encoded data removed]",
      "text/plain": [
       "<Figure size 432x288 with 1 Axes>"
      ]
     },
     "metadata": {
      "needs_background": "light"
     },
     "output_type": "display_data"
    }
   ],
   "source": [
    "predicted_valid = pd.Series(predictions_valid)\n",
    "freq_predict = predicted_valid.value_counts(normalize=True)\n",
    "print(freq_predict)\n",
    "freq_predict.plot(kind='bar')\n",
    "plt.xlabel('Класс')\n",
    "plt.ylabel('Соотношение пользователей')\n",
    "plt.title('Предсказание ушедших и оставшихся');"
   ]
  },
  {
   "cell_type": "markdown",
   "metadata": {},
   "source": [
    "Аналогичная ситуация но уже с предсказаниями"
   ]
  },
  {
   "cell_type": "code",
   "execution_count": 87,
   "metadata": {},
   "outputs": [
    {
     "name": "stdout",
     "output_type": "stream",
     "text": [
      "0.7963\n"
     ]
    }
   ],
   "source": [
    "k=[]\n",
    "for i in range(0,len(target)):\n",
    "    k.append(0)\n",
    "target_pred_constant = pd.Series(index=range(0,len(target)), data=k)\n",
    "print(accuracy_score(target, target_pred_constant))"
   ]
  },
  {
   "cell_type": "markdown",
   "metadata": {},
   "source": [
    "Теперь точно убедились, что классы несбалансированы.accuracy=0.79, а диаграммы показывают, что соотношение классов после predict примерно такое же, как и во всех данных."
   ]
  },
  {
   "cell_type": "code",
   "execution_count": 88,
   "metadata": {},
   "outputs": [
    {
     "data": {
      "text/plain": [
       "array([[1543,   39],\n",
       "       [ 398,   20]])"
      ]
     },
     "execution_count": 88,
     "metadata": {},
     "output_type": "execute_result"
    }
   ],
   "source": [
    "confusion_matrix(target_valid, predictions_valid)"
   ]
  },
  {
   "cell_type": "code",
   "execution_count": 89,
   "metadata": {},
   "outputs": [
    {
     "data": {
      "image/png": "[encoded data removed]",
      "text/plain": [
       "<Figure size 432x288 with 1 Axes>"
      ]
     },
     "metadata": {
      "needs_background": "light"
     },
     "output_type": "display_data"
    }
   ],
   "source": [
    "x = ['TN', 'FP', 'FN', 'TP']\n",
    "y = [1383, 199, 202, 216]\n",
    "plt.bar(x, y)\n",
    "plt.xlabel('answers')\n",
    "plt.ylabel('predictions')\n",
    "plt.title('Confusion matrix');"
   ]
  },
  {
   "cell_type": "markdown",
   "metadata": {},
   "source": [
    "Посмотел на матрицу неточностей, из нее видно, что количество истинно-отрицательных значительно больше всех остальных. Это значит, что модель предсказывает больше целевых признаков класса 0."
   ]
  },
  {
   "cell_type": "code",
   "execution_count": 90,
   "metadata": {},
   "outputs": [
    {
     "data": {
      "text/plain": [
       "0.08385744234800838"
      ]
     },
     "execution_count": 90,
     "metadata": {},
     "output_type": "execute_result"
    }
   ],
   "source": [
    "f1_score(target_valid, predictions_valid)"
   ]
  },
  {
   "cell_type": "markdown",
   "metadata": {},
   "source": [
    "Метрика f1 показала, что модель не очень хорошо определяет положительный класс."
   ]
  },
  {
   "cell_type": "markdown",
   "metadata": {},
   "source": [
    "<div class=\"alert alert-warning\">\n",
    "<b>Комментарий 👉</b>\n",
    "\n",
    "Отрицательный результат (требуемое качество согласно ТЗ: f1 > 0.59 не достигнуто) - тоже результат.\n",
    "    \n",
    "Роман, я не буду комментировать далее рутинные (и практически одинаковые, за исключением меняющихся названий моделей, действия). Если только ошибку увижу - тогда напишу. А так, смотрю за ходом исследования + возможно где-то свои мысли/советы/рекомендации укажу.    \n",
    "</div>"
   ]
  },
  {
   "cell_type": "code",
   "execution_count": 91,
   "metadata": {},
   "outputs": [
    {
     "data": {
      "text/html": [
       "<div>\n",
       "<style scoped>\n",
       "    .dataframe tbody tr th:only-of-type {\n",
       "        vertical-align: middle;\n",
       "    }\n",
       "\n",
       "    .dataframe tbody tr th {\n",
       "        vertical-align: top;\n",
       "    }\n",
       "\n",
       "    .dataframe thead th {\n",
       "        text-align: right;\n",
       "    }\n",
       "</style>\n",
       "<table border=\"1\" class=\"dataframe\">\n",
       "  <thead>\n",
       "    <tr style=\"text-align: right;\">\n",
       "      <th></th>\n",
       "      <th>CreditScore</th>\n",
       "      <th>Age</th>\n",
       "      <th>Tenure</th>\n",
       "      <th>Balance</th>\n",
       "      <th>EstimatedSalary</th>\n",
       "    </tr>\n",
       "  </thead>\n",
       "  <tbody>\n",
       "    <tr>\n",
       "      <th>7479</th>\n",
       "      <td>-0.886751</td>\n",
       "      <td>-0.373192</td>\n",
       "      <td>1.082277</td>\n",
       "      <td>1.232271</td>\n",
       "      <td>-0.187705</td>\n",
       "    </tr>\n",
       "    <tr>\n",
       "      <th>3411</th>\n",
       "      <td>0.608663</td>\n",
       "      <td>-0.183385</td>\n",
       "      <td>1.082277</td>\n",
       "      <td>0.600563</td>\n",
       "      <td>-0.333945</td>\n",
       "    </tr>\n",
       "    <tr>\n",
       "      <th>6027</th>\n",
       "      <td>2.052152</td>\n",
       "      <td>0.480939</td>\n",
       "      <td>-0.737696</td>\n",
       "      <td>1.027098</td>\n",
       "      <td>1.503095</td>\n",
       "    </tr>\n",
       "    <tr>\n",
       "      <th>1247</th>\n",
       "      <td>-1.457915</td>\n",
       "      <td>-1.417129</td>\n",
       "      <td>0.354288</td>\n",
       "      <td>-1.233163</td>\n",
       "      <td>-1.071061</td>\n",
       "    </tr>\n",
       "    <tr>\n",
       "      <th>3716</th>\n",
       "      <td>0.130961</td>\n",
       "      <td>-1.132419</td>\n",
       "      <td>-1.101690</td>\n",
       "      <td>1.140475</td>\n",
       "      <td>1.524268</td>\n",
       "    </tr>\n",
       "  </tbody>\n",
       "</table>\n",
       "</div>"
      ],
      "text/plain": [
       "      CreditScore       Age    Tenure   Balance  EstimatedSalary\n",
       "7479    -0.886751 -0.373192  1.082277  1.232271        -0.187705\n",
       "3411     0.608663 -0.183385  1.082277  0.600563        -0.333945\n",
       "6027     2.052152  0.480939 -0.737696  1.027098         1.503095\n",
       "1247    -1.457915 -1.417129  0.354288 -1.233163        -1.071061\n",
       "3716     0.130961 -1.132419 -1.101690  1.140475         1.524268"
      ]
     },
     "metadata": {},
     "output_type": "display_data"
    }
   ],
   "source": [
    "numeric = ['CreditScore', 'Age', 'Tenure', 'Balance', 'EstimatedSalary']\n",
    "\n",
    "scaler = StandardScaler()\n",
    "scaler.fit(features_train[numeric])\n",
    "features_train[numeric] = scaler.transform(features_train[numeric])\n",
    "pd.options.mode.chained_assignment = None\n",
    "display(features_train[numeric].head())"
   ]
  },
  {
   "cell_type": "code",
   "execution_count": 92,
   "metadata": {},
   "outputs": [
    {
     "data": {
      "text/html": [
       "<div>\n",
       "<style scoped>\n",
       "    .dataframe tbody tr th:only-of-type {\n",
       "        vertical-align: middle;\n",
       "    }\n",
       "\n",
       "    .dataframe tbody tr th {\n",
       "        vertical-align: top;\n",
       "    }\n",
       "\n",
       "    .dataframe thead th {\n",
       "        text-align: right;\n",
       "    }\n",
       "</style>\n",
       "<table border=\"1\" class=\"dataframe\">\n",
       "  <thead>\n",
       "    <tr style=\"text-align: right;\">\n",
       "      <th></th>\n",
       "      <th>CreditScore</th>\n",
       "      <th>Age</th>\n",
       "      <th>Tenure</th>\n",
       "      <th>Balance</th>\n",
       "      <th>EstimatedSalary</th>\n",
       "    </tr>\n",
       "  </thead>\n",
       "  <tbody>\n",
       "    <tr>\n",
       "      <th>8532</th>\n",
       "      <td>-0.699824</td>\n",
       "      <td>-0.373192</td>\n",
       "      <td>-1.101690</td>\n",
       "      <td>-1.233163</td>\n",
       "      <td>-0.015173</td>\n",
       "    </tr>\n",
       "    <tr>\n",
       "      <th>5799</th>\n",
       "      <td>-0.284431</td>\n",
       "      <td>0.575842</td>\n",
       "      <td>-0.737696</td>\n",
       "      <td>-1.233163</td>\n",
       "      <td>1.471724</td>\n",
       "    </tr>\n",
       "    <tr>\n",
       "      <th>5511</th>\n",
       "      <td>0.151731</td>\n",
       "      <td>-0.657902</td>\n",
       "      <td>-1.829679</td>\n",
       "      <td>0.438711</td>\n",
       "      <td>-1.367107</td>\n",
       "    </tr>\n",
       "    <tr>\n",
       "      <th>7365</th>\n",
       "      <td>-0.876366</td>\n",
       "      <td>-0.278288</td>\n",
       "      <td>1.810266</td>\n",
       "      <td>1.239884</td>\n",
       "      <td>-0.786517</td>\n",
       "    </tr>\n",
       "    <tr>\n",
       "      <th>7367</th>\n",
       "      <td>-0.481743</td>\n",
       "      <td>0.291132</td>\n",
       "      <td>1.810266</td>\n",
       "      <td>-1.233163</td>\n",
       "      <td>1.358533</td>\n",
       "    </tr>\n",
       "  </tbody>\n",
       "</table>\n",
       "</div>"
      ],
      "text/plain": [
       "      CreditScore       Age    Tenure   Balance  EstimatedSalary\n",
       "8532    -0.699824 -0.373192 -1.101690 -1.233163        -0.015173\n",
       "5799    -0.284431  0.575842 -0.737696 -1.233163         1.471724\n",
       "5511     0.151731 -0.657902 -1.829679  0.438711        -1.367107\n",
       "7365    -0.876366 -0.278288  1.810266  1.239884        -0.786517\n",
       "7367    -0.481743  0.291132  1.810266 -1.233163         1.358533"
      ]
     },
     "metadata": {},
     "output_type": "display_data"
    }
   ],
   "source": [
    "features_valid[numeric] = scaler.transform(features_valid[numeric])\n",
    "pd.options.mode.chained_assignment = None\n",
    "display(features_valid[numeric].head())"
   ]
  },
  {
   "cell_type": "code",
   "execution_count": 93,
   "metadata": {},
   "outputs": [
    {
     "data": {
      "text/html": [
       "<div>\n",
       "<style scoped>\n",
       "    .dataframe tbody tr th:only-of-type {\n",
       "        vertical-align: middle;\n",
       "    }\n",
       "\n",
       "    .dataframe tbody tr th {\n",
       "        vertical-align: top;\n",
       "    }\n",
       "\n",
       "    .dataframe thead th {\n",
       "        text-align: right;\n",
       "    }\n",
       "</style>\n",
       "<table border=\"1\" class=\"dataframe\">\n",
       "  <thead>\n",
       "    <tr style=\"text-align: right;\">\n",
       "      <th></th>\n",
       "      <th>CreditScore</th>\n",
       "      <th>Age</th>\n",
       "      <th>Tenure</th>\n",
       "      <th>Balance</th>\n",
       "      <th>EstimatedSalary</th>\n",
       "    </tr>\n",
       "  </thead>\n",
       "  <tbody>\n",
       "    <tr>\n",
       "      <th>7041</th>\n",
       "      <td>-2.226392</td>\n",
       "      <td>-0.088482</td>\n",
       "      <td>-1.101690</td>\n",
       "      <td>-1.233163</td>\n",
       "      <td>0.647083</td>\n",
       "    </tr>\n",
       "    <tr>\n",
       "      <th>5709</th>\n",
       "      <td>-0.087120</td>\n",
       "      <td>0.006422</td>\n",
       "      <td>1.446272</td>\n",
       "      <td>-1.233163</td>\n",
       "      <td>-1.658410</td>\n",
       "    </tr>\n",
       "    <tr>\n",
       "      <th>7117</th>\n",
       "      <td>-0.917905</td>\n",
       "      <td>-0.752805</td>\n",
       "      <td>-0.009707</td>\n",
       "      <td>0.722307</td>\n",
       "      <td>-1.369334</td>\n",
       "    </tr>\n",
       "    <tr>\n",
       "      <th>7775</th>\n",
       "      <td>-0.253277</td>\n",
       "      <td>0.101325</td>\n",
       "      <td>1.810266</td>\n",
       "      <td>-1.233163</td>\n",
       "      <td>0.075086</td>\n",
       "    </tr>\n",
       "    <tr>\n",
       "      <th>8735</th>\n",
       "      <td>0.785204</td>\n",
       "      <td>-0.847708</td>\n",
       "      <td>1.810266</td>\n",
       "      <td>0.615625</td>\n",
       "      <td>-1.070919</td>\n",
       "    </tr>\n",
       "  </tbody>\n",
       "</table>\n",
       "</div>"
      ],
      "text/plain": [
       "      CreditScore       Age    Tenure   Balance  EstimatedSalary\n",
       "7041    -2.226392 -0.088482 -1.101690 -1.233163         0.647083\n",
       "5709    -0.087120  0.006422  1.446272 -1.233163        -1.658410\n",
       "7117    -0.917905 -0.752805 -0.009707  0.722307        -1.369334\n",
       "7775    -0.253277  0.101325  1.810266 -1.233163         0.075086\n",
       "8735     0.785204 -0.847708  1.810266  0.615625        -1.070919"
      ]
     },
     "metadata": {},
     "output_type": "display_data"
    }
   ],
   "source": [
    "features_test[numeric] = scaler.transform(features_test[numeric])\n",
    "pd.options.mode.chained_assignment = None\n",
    "display(features_test[numeric].head())"
   ]
  },
  {
   "cell_type": "markdown",
   "metadata": {},
   "source": [
    "## Борьба с дисбалансом"
   ]
  },
  {
   "cell_type": "markdown",
   "metadata": {},
   "source": [
    "Решил рассмотреть логистическую регрессию, чтобы сначала разобраться с балансом"
   ]
  },
  {
   "cell_type": "code",
   "execution_count": 94,
   "metadata": {},
   "outputs": [
    {
     "name": "stdout",
     "output_type": "stream",
     "text": [
      "F1: 0.4888507718696398\n"
     ]
    }
   ],
   "source": [
    "model = LogisticRegression(random_state=12345, solver='liblinear', class_weight='balanced')\n",
    "model.fit(features_train, target_train)\n",
    "predicted_valid = model.predict(features_valid)\n",
    "print(\"F1:\", f1_score(target_valid, predicted_valid))"
   ]
  },
  {
   "cell_type": "markdown",
   "metadata": {},
   "source": [
    "Не очень впечатляющий результат в связи с дисбалансом классов"
   ]
  },
  {
   "cell_type": "code",
   "execution_count": 95,
   "metadata": {},
   "outputs": [],
   "source": [
    "def upsample(features, target, repeat):\n",
    "    features_zeros = features[target == 0]\n",
    "    features_ones = features[target == 1]\n",
    "    target_zeros = target[target == 0]\n",
    "    target_ones = target[target == 1]\n",
    "\n",
    "    features_upsampled = pd.concat([features_zeros] + [features_ones] * repeat)\n",
    "    target_upsampled = pd.concat([target_zeros] + [target_ones] * repeat)\n",
    "    \n",
    "    features_upsampled, target_upsampled = shuffle(\n",
    "        features_upsampled, target_upsampled, random_state=12345)\n",
    "    \n",
    "    return features_upsampled, target_upsampled"
   ]
  },
  {
   "cell_type": "code",
   "execution_count": 96,
   "metadata": {},
   "outputs": [],
   "source": [
    "features_upsampled, target_upsampled = upsample(features_train, target_train, 4)"
   ]
  },
  {
   "cell_type": "code",
   "execution_count": 97,
   "metadata": {},
   "outputs": [
    {
     "name": "stdout",
     "output_type": "stream",
     "text": [
      "F1: 0.4888507718696398\n"
     ]
    }
   ],
   "source": [
    "model = LogisticRegression(random_state=12345, solver='liblinear')\n",
    "model.fit(features_upsampled, target_upsampled)\n",
    "predicted_valid = model.predict(features_valid)\n",
    "\n",
    "print(\"F1:\", f1_score(target_valid, predicted_valid))"
   ]
  },
  {
   "cell_type": "markdown",
   "metadata": {},
   "source": [
    "Применил метод upsamle чтобы увеличить количество объектов класса 1. Кроме того вес классов сделал сбалансированным. Результат немного улучшился, но сейчас посмотрим лес."
   ]
  },
  {
   "cell_type": "code",
   "execution_count": 98,
   "metadata": {
    "scrolled": true
   },
   "outputs": [
    {
     "name": "stdout",
     "output_type": "stream",
     "text": [
      "14\n"
     ]
    }
   ],
   "source": [
    "best_f1 = 0\n",
    "best_depth = 1\n",
    "for depth in range(1, 16, 1):  \n",
    "    model = (RandomForestClassifier(n_estimators=20, \n",
    "                                    max_depth=depth, \n",
    "                                    random_state=12345))\n",
    "    model.fit(features_upsampled, target_upsampled)\n",
    "    predictions_valid = model.predict(features_valid)\n",
    "    f1 = f1_score(target_valid, predictions_valid)\n",
    "    if (f1>0)&(f1>best_f1):\n",
    "        best_f1 = f1\n",
    "        best_depth = depth\n",
    "print(best_depth)"
   ]
  },
  {
   "cell_type": "code",
   "execution_count": 99,
   "metadata": {},
   "outputs": [
    {
     "name": "stdout",
     "output_type": "stream",
     "text": [
      "26\n"
     ]
    }
   ],
   "source": [
    "best_scr = 0\n",
    "best_n = 20\n",
    "for n in range(20, 100, 1):\n",
    "    model = (RandomForestClassifier(n_estimators=n, max_depth=14, \n",
    "                                    random_state=12345))\n",
    "    model.fit(features_upsampled, target_upsampled)\n",
    "    predictions_valid = model.predict(features_valid)\n",
    "    scr = f1_score(target_valid, predictions_valid)\n",
    "    if (scr>0)&(scr>best_scr):\n",
    "        best_scr = scr\n",
    "        best_n = n\n",
    "print(best_n)"
   ]
  },
  {
   "cell_type": "code",
   "execution_count": 100,
   "metadata": {},
   "outputs": [
    {
     "data": {
      "text/plain": [
       "0.6277915632754343"
      ]
     },
     "execution_count": 100,
     "metadata": {},
     "output_type": "execute_result"
    }
   ],
   "source": [
    "model = (RandomForestClassifier(random_state=12345, n_estimators=26, \n",
    "                                max_depth=14))\n",
    "model.fit(features_upsampled, target_upsampled)\n",
    "predictions_valid = model.predict(features_valid)\n",
    "f1_score(target_valid, predictions_valid)"
   ]
  },
  {
   "cell_type": "code",
   "execution_count": 101,
   "metadata": {},
   "outputs": [
    {
     "name": "stdout",
     "output_type": "stream",
     "text": [
      "8\n"
     ]
    }
   ],
   "source": [
    "best_f1 = 0\n",
    "best_depth = 1\n",
    "for depth in range(1, 16, 1):  \n",
    "    model = (RandomForestClassifier(n_estimators=20, \n",
    "                                    max_depth=depth, \n",
    "                                    random_state=12345, class_weight='balanced'))\n",
    "    model.fit(features_train, target_train)\n",
    "    predictions_valid = model.predict(features_valid)\n",
    "    f1 = f1_score(target_valid, predictions_valid)\n",
    "    if (f1>0)&(f1>best_f1):\n",
    "        best_f1 = f1\n",
    "        best_depth = depth\n",
    "print(best_depth)"
   ]
  },
  {
   "cell_type": "code",
   "execution_count": 102,
   "metadata": {},
   "outputs": [
    {
     "name": "stdout",
     "output_type": "stream",
     "text": [
      "52\n"
     ]
    }
   ],
   "source": [
    "best_scr = 0\n",
    "best_n = 20\n",
    "for n in range(20, 100, 1):\n",
    "    model = (RandomForestClassifier(n_estimators=n, max_depth=8, \n",
    "                                    random_state=12345, class_weight='balanced'))\n",
    "    model.fit(features_train, target_train)\n",
    "    predictions_valid = model.predict(features_valid)\n",
    "    scr = f1_score(target_valid, predictions_valid)\n",
    "    if (scr>0)&(scr>best_scr):\n",
    "        best_scr = scr\n",
    "        best_n = n\n",
    "print(best_n)"
   ]
  },
  {
   "cell_type": "code",
   "execution_count": 103,
   "metadata": {},
   "outputs": [
    {
     "data": {
      "text/plain": [
       "0.6278814489571899"
      ]
     },
     "execution_count": 103,
     "metadata": {},
     "output_type": "execute_result"
    }
   ],
   "source": [
    "model = (RandomForestClassifier(random_state=12345, n_estimators=52, \n",
    "                                max_depth=8,  class_weight='balanced'))\n",
    "model.fit(features_train, target_train)\n",
    "predictions_valid = model.predict(features_valid)\n",
    "f1_score(target_valid, predictions_valid)"
   ]
  },
  {
   "cell_type": "markdown",
   "metadata": {},
   "source": [
    "Подобрал гиперкритерии для леса, обучил модель на нашей upsampled выборки и получил результат f1 = 0.63"
   ]
  },
  {
   "cell_type": "markdown",
   "metadata": {},
   "source": [
    "## Тестирование модели"
   ]
  },
  {
   "cell_type": "code",
   "execution_count": 104,
   "metadata": {},
   "outputs": [
    {
     "data": {
      "text/plain": [
       "0.5792079207920792"
      ]
     },
     "execution_count": 104,
     "metadata": {},
     "output_type": "execute_result"
    }
   ],
   "source": [
    "model = (RandomForestClassifier(random_state=12345, n_estimators=26, \n",
    "                                max_depth=14))\n",
    "model.fit(features_upsampled, target_upsampled)\n",
    "predictions_test = model.predict(features_test)\n",
    "f1_score(target_test, predictions_test)"
   ]
  },
  {
   "cell_type": "code",
   "execution_count": 105,
   "metadata": {},
   "outputs": [
    {
     "data": {
      "text/plain": [
       "0.6032786885245902"
      ]
     },
     "execution_count": 105,
     "metadata": {},
     "output_type": "execute_result"
    }
   ],
   "source": [
    "model = (RandomForestClassifier(random_state=12345, n_estimators=52, \n",
    "                                max_depth=8,  class_weight='balanced'))\n",
    "model.fit(features_train, target_train)\n",
    "predictions_test = model.predict(features_test)\n",
    "f1_score(target_test, predictions_test)"
   ]
  },
  {
   "cell_type": "markdown",
   "metadata": {},
   "source": [
    "Протестировал на тестовой выборке, f1 = 0.600, что удавлетворяет условию задания."
   ]
  },
  {
   "cell_type": "markdown",
   "metadata": {},
   "source": [
    "## Вывод\n",
    "\n",
    "***Подготовка данных***\n",
    "\n",
    "   - *Я ознакомился с данными*\n",
    "    \n",
    "   - *Избавился от столбца с именем, так как при кодировании он в дальнейшем только запутал бы нашу модель*\n",
    "    \n",
    "   - *Заметил пропуски в данных. Заменил их на медианные значения в зависимости от класса целевого признака*\n",
    "    \n",
    "   - *Разделил на выборки*\n",
    "    \n",
    "***Дисбаланс***\n",
    "\n",
    "   - *Рассмотрел соотношение классов, оказалось, что 0 превосходит 1*\n",
    "    \n",
    "   - *Построил модель без учета дисбаланся. Результат показал, что количество ответов класса 0 превосходит класс 1*\n",
    "   \n",
    "   - *Использовал метод сбалансирования веса классов при создании моделей*\n",
    "   \n",
    "   - *Тренировочную выборку преобразовал методом `upsample`, после этого результат логистической регрессии улучшился*\n",
    "   \n",
    "   - *Подобрал гиперпараметры и построил модель `RandomForestClassifier` на обновленных тренировочных данных*\n",
    "   \n",
    "   - *Так жу подобрал гиперпараметры для RandomForestClassifier с* `class_weight='balanced'`  \n",
    "   \n",
    "***Тест***\n",
    "   - *Тест показал удовлетворительные результаты по метрике f1(0.60), при чем результат лучше, если использовать `class_weight='balanced'`, а не метод upsample* "
   ]
  }
 ],
 "metadata": {
  "ExecuteTimeLog": [
   {
    "duration": 1207,
    "start_time": "2023-08-12T15:14:28.311Z"
   },
   {
    "duration": 183,
    "start_time": "2023-08-12T15:15:40.312Z"
   },
   {
    "duration": 16,
    "start_time": "2023-08-12T15:15:52.305Z"
   },
   {
    "duration": 6,
    "start_time": "2023-08-12T15:16:46.974Z"
   },
   {
    "duration": 630,
    "start_time": "2023-08-12T15:22:58.999Z"
   },
   {
    "duration": 62,
    "start_time": "2023-08-12T15:23:02.120Z"
   },
   {
    "duration": 14,
    "start_time": "2023-08-12T15:23:03.980Z"
   },
   {
    "duration": 7,
    "start_time": "2023-08-12T15:23:08.256Z"
   },
   {
    "duration": 5,
    "start_time": "2023-08-12T15:23:32.784Z"
   },
   {
    "duration": 1246,
    "start_time": "2023-08-12T15:28:10.751Z"
   },
   {
    "duration": 6,
    "start_time": "2023-08-12T15:35:50.350Z"
   },
   {
    "duration": 9,
    "start_time": "2023-08-12T15:35:58.163Z"
   },
   {
    "duration": 8,
    "start_time": "2023-08-12T15:36:14.826Z"
   },
   {
    "duration": 6,
    "start_time": "2023-08-12T15:36:20.034Z"
   },
   {
    "duration": 8,
    "start_time": "2023-08-12T15:40:04.700Z"
   },
   {
    "duration": 5,
    "start_time": "2023-08-12T15:40:29.805Z"
   },
   {
    "duration": 15,
    "start_time": "2023-08-12T15:42:03.698Z"
   },
   {
    "duration": 7,
    "start_time": "2023-08-12T15:43:08.785Z"
   },
   {
    "duration": 7,
    "start_time": "2023-08-12T15:43:27.799Z"
   },
   {
    "duration": 53,
    "start_time": "2023-08-12T15:43:41.057Z"
   },
   {
    "duration": 12,
    "start_time": "2023-08-12T15:43:41.601Z"
   },
   {
    "duration": 4,
    "start_time": "2023-08-12T15:43:42.085Z"
   },
   {
    "duration": 5,
    "start_time": "2023-08-12T15:43:43.585Z"
   },
   {
    "duration": 11,
    "start_time": "2023-08-12T15:43:44.207Z"
   },
   {
    "duration": 10,
    "start_time": "2023-08-12T15:43:45.476Z"
   },
   {
    "duration": 12,
    "start_time": "2023-08-12T16:17:03.739Z"
   },
   {
    "duration": 8,
    "start_time": "2023-08-12T16:17:03.761Z"
   },
   {
    "duration": 15,
    "start_time": "2023-08-12T16:17:03.772Z"
   },
   {
    "duration": 5,
    "start_time": "2023-08-12T16:17:03.789Z"
   },
   {
    "duration": 9,
    "start_time": "2023-08-12T16:17:04.112Z"
   },
   {
    "duration": 8,
    "start_time": "2023-08-12T16:18:56.149Z"
   },
   {
    "duration": 52,
    "start_time": "2023-08-12T16:19:38.113Z"
   },
   {
    "duration": 14,
    "start_time": "2023-08-12T16:19:40.979Z"
   },
   {
    "duration": 5,
    "start_time": "2023-08-12T16:19:42.974Z"
   },
   {
    "duration": 5,
    "start_time": "2023-08-12T16:19:44.308Z"
   },
   {
    "duration": 7,
    "start_time": "2023-08-12T16:19:45.866Z"
   },
   {
    "duration": 10,
    "start_time": "2023-08-12T16:19:51.057Z"
   },
   {
    "duration": 8,
    "start_time": "2023-08-12T16:19:52.300Z"
   },
   {
    "duration": 7,
    "start_time": "2023-08-12T16:21:35.474Z"
   },
   {
    "duration": 6,
    "start_time": "2023-08-12T16:22:34.999Z"
   },
   {
    "duration": 7,
    "start_time": "2023-08-12T16:22:42.478Z"
   },
   {
    "duration": 6,
    "start_time": "2023-08-12T16:24:54.374Z"
   },
   {
    "duration": 51,
    "start_time": "2023-08-12T16:25:04.678Z"
   },
   {
    "duration": 12,
    "start_time": "2023-08-12T16:25:05.225Z"
   },
   {
    "duration": 4,
    "start_time": "2023-08-12T16:25:09.587Z"
   },
   {
    "duration": 5,
    "start_time": "2023-08-12T16:25:10.784Z"
   },
   {
    "duration": 6,
    "start_time": "2023-08-12T16:25:12.709Z"
   },
   {
    "duration": 7,
    "start_time": "2023-08-12T16:25:15.178Z"
   },
   {
    "duration": 5,
    "start_time": "2023-08-12T16:25:17.280Z"
   },
   {
    "duration": 8,
    "start_time": "2023-08-12T16:25:18.113Z"
   },
   {
    "duration": 5,
    "start_time": "2023-08-12T16:25:18.585Z"
   },
   {
    "duration": 7,
    "start_time": "2023-08-12T16:28:50.278Z"
   },
   {
    "duration": 9,
    "start_time": "2023-08-12T16:29:36.825Z"
   },
   {
    "duration": 3,
    "start_time": "2023-08-12T16:29:47.585Z"
   },
   {
    "duration": 49,
    "start_time": "2023-08-12T16:29:48.697Z"
   },
   {
    "duration": 13,
    "start_time": "2023-08-12T16:29:49.584Z"
   },
   {
    "duration": 8,
    "start_time": "2023-08-12T16:29:50.562Z"
   },
   {
    "duration": 6,
    "start_time": "2023-08-12T16:29:51.111Z"
   },
   {
    "duration": 8,
    "start_time": "2023-08-12T16:29:52.959Z"
   },
   {
    "duration": 7,
    "start_time": "2023-08-12T16:29:56.321Z"
   },
   {
    "duration": 10,
    "start_time": "2023-08-12T16:29:57.099Z"
   },
   {
    "duration": 11,
    "start_time": "2023-08-12T16:32:08.698Z"
   },
   {
    "duration": 75,
    "start_time": "2023-08-12T16:32:21.998Z"
   },
   {
    "duration": 10,
    "start_time": "2023-08-12T16:32:32.297Z"
   },
   {
    "duration": 4,
    "start_time": "2023-08-12T16:32:42.976Z"
   },
   {
    "duration": 9,
    "start_time": "2023-08-12T16:36:13.217Z"
   },
   {
    "duration": 10,
    "start_time": "2023-08-12T16:40:31.598Z"
   },
   {
    "duration": 50,
    "start_time": "2023-08-12T16:40:36.987Z"
   },
   {
    "duration": 12,
    "start_time": "2023-08-12T16:40:37.812Z"
   },
   {
    "duration": 5,
    "start_time": "2023-08-12T16:40:38.017Z"
   },
   {
    "duration": 5,
    "start_time": "2023-08-12T16:40:38.192Z"
   },
   {
    "duration": 6,
    "start_time": "2023-08-12T16:40:38.874Z"
   },
   {
    "duration": 12,
    "start_time": "2023-08-12T16:40:39.056Z"
   },
   {
    "duration": 13,
    "start_time": "2023-08-12T16:40:40.162Z"
   },
   {
    "duration": 5,
    "start_time": "2023-08-12T16:40:40.936Z"
   },
   {
    "duration": 13,
    "start_time": "2023-08-12T16:40:41.656Z"
   },
   {
    "duration": 13,
    "start_time": "2023-08-12T16:41:30.358Z"
   },
   {
    "duration": 9,
    "start_time": "2023-08-12T16:42:21.013Z"
   },
   {
    "duration": 5,
    "start_time": "2023-08-12T16:42:24.796Z"
   },
   {
    "duration": 8,
    "start_time": "2023-08-12T16:42:25.420Z"
   },
   {
    "duration": 4,
    "start_time": "2023-08-12T16:42:26.573Z"
   },
   {
    "duration": 9,
    "start_time": "2023-08-12T16:51:12.708Z"
   },
   {
    "duration": 210,
    "start_time": "2023-08-12T16:51:30.341Z"
   },
   {
    "duration": 76,
    "start_time": "2023-08-12T16:51:31.722Z"
   },
   {
    "duration": 93,
    "start_time": "2023-08-12T16:51:32.689Z"
   },
   {
    "duration": 4,
    "start_time": "2023-08-12T16:51:33.583Z"
   },
   {
    "duration": 4,
    "start_time": "2023-08-12T16:52:34.329Z"
   },
   {
    "duration": 11,
    "start_time": "2023-08-12T16:52:35.121Z"
   },
   {
    "duration": 7,
    "start_time": "2023-08-12T16:52:36.366Z"
   },
   {
    "duration": 8,
    "start_time": "2023-08-12T16:52:37.975Z"
   },
   {
    "duration": 3,
    "start_time": "2023-08-12T16:52:38.437Z"
   },
   {
    "duration": 12,
    "start_time": "2023-08-12T16:53:16.202Z"
   },
   {
    "duration": 11,
    "start_time": "2023-08-12T16:53:19.313Z"
   },
   {
    "duration": 13,
    "start_time": "2023-08-12T16:53:26.170Z"
   },
   {
    "duration": 11,
    "start_time": "2023-08-12T16:53:58.086Z"
   },
   {
    "duration": 11,
    "start_time": "2023-08-12T16:54:12.206Z"
   },
   {
    "duration": 12,
    "start_time": "2023-08-12T16:54:29.096Z"
   },
   {
    "duration": 52,
    "start_time": "2023-08-12T16:55:01.253Z"
   },
   {
    "duration": 14,
    "start_time": "2023-08-12T16:55:02.072Z"
   },
   {
    "duration": 6,
    "start_time": "2023-08-12T16:55:02.480Z"
   },
   {
    "duration": 5,
    "start_time": "2023-08-12T16:55:03.085Z"
   },
   {
    "duration": 12,
    "start_time": "2023-08-12T16:55:03.462Z"
   },
   {
    "duration": 6,
    "start_time": "2023-08-12T16:55:03.823Z"
   },
   {
    "duration": 9,
    "start_time": "2023-08-12T16:55:04.300Z"
   },
   {
    "duration": 5,
    "start_time": "2023-08-12T16:55:06.642Z"
   },
   {
    "duration": 12,
    "start_time": "2023-08-12T16:55:09.036Z"
   },
   {
    "duration": 11,
    "start_time": "2023-08-12T16:55:13.181Z"
   },
   {
    "duration": 19,
    "start_time": "2023-08-12T16:55:14.948Z"
   },
   {
    "duration": 11,
    "start_time": "2023-08-12T16:55:31.938Z"
   },
   {
    "duration": 65,
    "start_time": "2023-08-12T16:58:01.589Z"
   },
   {
    "duration": 1109,
    "start_time": "2023-08-12T16:58:09.938Z"
   },
   {
    "duration": 11,
    "start_time": "2023-08-12T17:00:11.218Z"
   },
   {
    "duration": 14,
    "start_time": "2023-08-12T17:00:16.750Z"
   },
   {
    "duration": 6,
    "start_time": "2023-08-12T17:00:34.911Z"
   },
   {
    "duration": 10,
    "start_time": "2023-08-12T17:00:35.274Z"
   },
   {
    "duration": 4,
    "start_time": "2023-08-12T17:00:36.288Z"
   },
   {
    "duration": 15,
    "start_time": "2023-08-12T17:08:32.361Z"
   },
   {
    "duration": 5,
    "start_time": "2023-08-12T17:08:58.412Z"
   },
   {
    "duration": 16,
    "start_time": "2023-08-12T17:08:59.473Z"
   },
   {
    "duration": 12,
    "start_time": "2023-08-12T17:09:01.702Z"
   },
   {
    "duration": 12,
    "start_time": "2023-08-12T17:09:10.885Z"
   },
   {
    "duration": 12,
    "start_time": "2023-08-12T21:55:46.382Z"
   },
   {
    "duration": 51,
    "start_time": "2023-08-12T21:57:27.350Z"
   },
   {
    "duration": 10,
    "start_time": "2023-08-12T21:58:05.531Z"
   },
   {
    "duration": 3,
    "start_time": "2023-08-12T21:58:11.014Z"
   },
   {
    "duration": 95997,
    "start_time": "2023-08-12T22:01:47.665Z"
   },
   {
    "duration": 12,
    "start_time": "2023-08-12T22:03:23.665Z"
   },
   {
    "duration": 0,
    "start_time": "2023-08-12T22:03:23.679Z"
   },
   {
    "duration": 76,
    "start_time": "2023-08-12T22:03:30.003Z"
   },
   {
    "duration": 69,
    "start_time": "2023-08-12T22:03:37.550Z"
   },
   {
    "duration": 11,
    "start_time": "2023-08-12T22:04:01.041Z"
   },
   {
    "duration": 3,
    "start_time": "2023-08-12T22:04:20.955Z"
   },
   {
    "duration": 52,
    "start_time": "2023-08-12T22:04:30.354Z"
   },
   {
    "duration": 132,
    "start_time": "2023-08-12T22:11:19.076Z"
   },
   {
    "duration": 121,
    "start_time": "2023-08-12T22:11:23.930Z"
   },
   {
    "duration": 124,
    "start_time": "2023-08-12T22:14:10.708Z"
   },
   {
    "duration": 46,
    "start_time": "2023-08-12T22:14:17.601Z"
   },
   {
    "duration": 109,
    "start_time": "2023-08-12T22:14:21.631Z"
   },
   {
    "duration": 12,
    "start_time": "2023-08-12T22:14:23.267Z"
   },
   {
    "duration": 10,
    "start_time": "2023-08-12T22:14:31.832Z"
   },
   {
    "duration": 10,
    "start_time": "2023-08-12T22:15:59.818Z"
   },
   {
    "duration": 121,
    "start_time": "2023-08-12T22:16:04.338Z"
   },
   {
    "duration": 8,
    "start_time": "2023-08-12T22:18:13.149Z"
   },
   {
    "duration": 4,
    "start_time": "2023-08-12T22:23:10.353Z"
   },
   {
    "duration": 7,
    "start_time": "2023-08-12T22:24:19.689Z"
   },
   {
    "duration": 4,
    "start_time": "2023-08-12T22:26:17.030Z"
   },
   {
    "duration": 7,
    "start_time": "2023-08-12T22:26:52.554Z"
   },
   {
    "duration": 4,
    "start_time": "2023-08-12T22:29:27.443Z"
   },
   {
    "duration": 6,
    "start_time": "2023-08-12T22:30:10.199Z"
   },
   {
    "duration": 4,
    "start_time": "2023-08-12T22:34:37.341Z"
   },
   {
    "duration": 7,
    "start_time": "2023-08-12T22:35:43.997Z"
   },
   {
    "duration": 46,
    "start_time": "2023-08-12T22:42:42.495Z"
   },
   {
    "duration": 9,
    "start_time": "2023-08-15T10:47:11.794Z"
   },
   {
    "duration": 57,
    "start_time": "2023-08-15T10:48:14.992Z"
   },
   {
    "duration": 1619,
    "start_time": "2023-08-15T10:49:00.459Z"
   },
   {
    "duration": 168,
    "start_time": "2023-08-15T10:49:02.081Z"
   },
   {
    "duration": 14,
    "start_time": "2023-08-15T10:49:02.251Z"
   },
   {
    "duration": 20,
    "start_time": "2023-08-15T10:49:02.267Z"
   },
   {
    "duration": 27,
    "start_time": "2023-08-15T10:49:02.290Z"
   },
   {
    "duration": 27,
    "start_time": "2023-08-15T10:49:02.319Z"
   },
   {
    "duration": 9,
    "start_time": "2023-08-15T10:49:02.434Z"
   },
   {
    "duration": 9,
    "start_time": "2023-08-15T10:49:02.689Z"
   },
   {
    "duration": 5,
    "start_time": "2023-08-15T10:49:03.159Z"
   },
   {
    "duration": 13,
    "start_time": "2023-08-15T10:49:03.409Z"
   },
   {
    "duration": 5,
    "start_time": "2023-08-15T10:49:03.653Z"
   },
   {
    "duration": 13,
    "start_time": "2023-08-15T10:49:03.941Z"
   },
   {
    "duration": 17,
    "start_time": "2023-08-15T10:49:04.206Z"
   },
   {
    "duration": 7,
    "start_time": "2023-08-15T10:49:04.755Z"
   },
   {
    "duration": 9,
    "start_time": "2023-08-15T10:49:05.025Z"
   },
   {
    "duration": 4,
    "start_time": "2023-08-15T10:49:05.281Z"
   },
   {
    "duration": 191,
    "start_time": "2023-08-15T10:49:06.886Z"
   },
   {
    "duration": 125,
    "start_time": "2023-08-15T10:49:14.695Z"
   },
   {
    "duration": 127,
    "start_time": "2023-08-15T10:49:15.575Z"
   },
   {
    "duration": 8,
    "start_time": "2023-08-15T10:49:16.152Z"
   },
   {
    "duration": 6,
    "start_time": "2023-08-15T10:49:17.337Z"
   },
   {
    "duration": 7,
    "start_time": "2023-08-15T10:49:17.755Z"
   },
   {
    "duration": 60,
    "start_time": "2023-08-15T10:49:21.304Z"
   },
   {
    "duration": 4,
    "start_time": "2023-08-15T10:49:22.703Z"
   },
   {
    "duration": 21,
    "start_time": "2023-08-15T10:49:23.895Z"
   },
   {
    "duration": 6,
    "start_time": "2023-08-15T10:50:11.332Z"
   },
   {
    "duration": 4,
    "start_time": "2023-08-15T10:50:17.654Z"
   },
   {
    "duration": 14,
    "start_time": "2023-08-15T10:50:18.111Z"
   },
   {
    "duration": 170,
    "start_time": "2023-08-15T10:50:49.916Z"
   },
   {
    "duration": 21,
    "start_time": "2023-08-15T10:51:03.907Z"
   },
   {
    "duration": 57,
    "start_time": "2023-08-15T10:51:04.822Z"
   },
   {
    "duration": 25,
    "start_time": "2023-08-15T10:51:15.822Z"
   },
   {
    "duration": 134,
    "start_time": "2023-08-15T10:51:16.658Z"
   },
   {
    "duration": 15,
    "start_time": "2023-08-15T10:51:26.313Z"
   },
   {
    "duration": 105,
    "start_time": "2023-08-15T10:51:26.854Z"
   },
   {
    "duration": 12,
    "start_time": "2023-08-15T10:51:31.606Z"
   },
   {
    "duration": 99,
    "start_time": "2023-08-15T10:51:32.265Z"
   },
   {
    "duration": 5,
    "start_time": "2023-08-15T10:52:52.131Z"
   },
   {
    "duration": 67,
    "start_time": "2023-08-15T10:52:56.892Z"
   },
   {
    "duration": 4,
    "start_time": "2023-08-15T11:03:20.731Z"
   },
   {
    "duration": 6,
    "start_time": "2023-08-15T11:05:02.674Z"
   },
   {
    "duration": 14,
    "start_time": "2023-08-15T11:05:12.730Z"
   },
   {
    "duration": 72,
    "start_time": "2023-08-15T11:05:23.686Z"
   },
   {
    "duration": 13,
    "start_time": "2023-08-15T11:10:16.836Z"
   },
   {
    "duration": 3,
    "start_time": "2023-08-15T11:10:39.124Z"
   },
   {
    "duration": 9103,
    "start_time": "2023-08-15T11:10:52.006Z"
   },
   {
    "duration": 108931,
    "start_time": "2023-08-15T11:12:15.079Z"
   },
   {
    "duration": 194867,
    "start_time": "2023-08-15T11:16:38.350Z"
   },
   {
    "duration": 3915,
    "start_time": "2023-08-15T11:19:57.466Z"
   },
   {
    "duration": 3874,
    "start_time": "2023-08-15T11:22:48.055Z"
   },
   {
    "duration": 16,
    "start_time": "2023-08-15T11:23:09.098Z"
   },
   {
    "duration": 3846,
    "start_time": "2023-08-15T11:24:48.485Z"
   },
   {
    "duration": 3958,
    "start_time": "2023-08-15T11:25:10.566Z"
   },
   {
    "duration": 17,
    "start_time": "2023-08-15T11:25:14.526Z"
   },
   {
    "duration": 1913,
    "start_time": "2023-08-15T11:28:46.807Z"
   },
   {
    "duration": 16,
    "start_time": "2023-08-15T11:28:51.122Z"
   },
   {
    "duration": 1903,
    "start_time": "2023-08-15T11:29:10.589Z"
   },
   {
    "duration": 790,
    "start_time": "2023-08-15T11:33:10.169Z"
   },
   {
    "duration": 5,
    "start_time": "2023-08-15T11:33:25.078Z"
   },
   {
    "duration": 3472,
    "start_time": "2023-08-15T11:44:39.105Z"
   },
   {
    "duration": 78906,
    "start_time": "2023-08-15T11:44:52.815Z"
   },
   {
    "duration": 890,
    "start_time": "2023-08-15T11:46:11.723Z"
   },
   {
    "duration": 796,
    "start_time": "2023-08-15T11:46:22.329Z"
   },
   {
    "duration": 821,
    "start_time": "2023-08-15T11:46:33.448Z"
   },
   {
    "duration": 1349,
    "start_time": "2023-08-15T11:47:16.494Z"
   },
   {
    "duration": 250,
    "start_time": "2023-08-15T12:03:59.317Z"
   },
   {
    "duration": 69,
    "start_time": "2023-08-15T12:09:39.754Z"
   },
   {
    "duration": 69,
    "start_time": "2023-08-15T12:09:46.938Z"
   },
   {
    "duration": 3581,
    "start_time": "2023-08-15T12:10:03.813Z"
   },
   {
    "duration": 117,
    "start_time": "2023-08-15T12:10:32.590Z"
   },
   {
    "duration": 0,
    "start_time": "2023-08-15T12:11:27.774Z"
   },
   {
    "duration": 71577,
    "start_time": "2023-08-15T12:11:32.430Z"
   },
   {
    "duration": 997,
    "start_time": "2023-08-15T12:13:01.998Z"
   },
   {
    "duration": 37,
    "start_time": "2023-08-15T12:24:06.776Z"
   },
   {
    "duration": 54,
    "start_time": "2023-08-15T12:37:09.825Z"
   },
   {
    "duration": 132,
    "start_time": "2023-08-15T13:39:53.360Z"
   },
   {
    "duration": 6,
    "start_time": "2023-08-15T13:41:04.173Z"
   },
   {
    "duration": 145,
    "start_time": "2023-08-15T13:42:40.236Z"
   },
   {
    "duration": 3,
    "start_time": "2023-08-15T13:44:12.279Z"
   },
   {
    "duration": 7,
    "start_time": "2023-08-15T13:44:19.904Z"
   },
   {
    "duration": 5,
    "start_time": "2023-08-15T13:44:33.903Z"
   },
   {
    "duration": 5,
    "start_time": "2023-08-15T13:44:39.430Z"
   },
   {
    "duration": 1677,
    "start_time": "2023-08-15T16:21:26.420Z"
   },
   {
    "duration": 168,
    "start_time": "2023-08-15T16:21:28.099Z"
   },
   {
    "duration": 13,
    "start_time": "2023-08-15T16:21:28.268Z"
   },
   {
    "duration": 72,
    "start_time": "2023-08-15T16:21:28.284Z"
   },
   {
    "duration": 6,
    "start_time": "2023-08-15T16:21:28.358Z"
   },
   {
    "duration": 14,
    "start_time": "2023-08-15T16:21:28.366Z"
   },
   {
    "duration": 11,
    "start_time": "2023-08-15T16:21:28.382Z"
   },
   {
    "duration": 10,
    "start_time": "2023-08-15T16:21:28.395Z"
   },
   {
    "duration": 12,
    "start_time": "2023-08-15T16:21:28.455Z"
   },
   {
    "duration": 5,
    "start_time": "2023-08-15T16:21:29.142Z"
   },
   {
    "duration": 14,
    "start_time": "2023-08-15T16:21:29.386Z"
   },
   {
    "duration": 4,
    "start_time": "2023-08-15T16:21:29.606Z"
   },
   {
    "duration": 11,
    "start_time": "2023-08-15T16:21:29.842Z"
   },
   {
    "duration": 13,
    "start_time": "2023-08-15T16:21:30.067Z"
   },
   {
    "duration": 7,
    "start_time": "2023-08-15T16:21:30.497Z"
   },
   {
    "duration": 9,
    "start_time": "2023-08-15T16:21:30.705Z"
   },
   {
    "duration": 4,
    "start_time": "2023-08-15T16:21:30.909Z"
   },
   {
    "duration": 222,
    "start_time": "2023-08-15T16:21:31.611Z"
   },
   {
    "duration": 142,
    "start_time": "2023-08-15T16:21:32.045Z"
   },
   {
    "duration": 60,
    "start_time": "2023-08-15T16:21:32.288Z"
   },
   {
    "duration": 130,
    "start_time": "2023-08-15T16:21:32.514Z"
   },
   {
    "duration": 12,
    "start_time": "2023-08-15T16:21:32.738Z"
   },
   {
    "duration": 7,
    "start_time": "2023-08-15T16:21:33.194Z"
   },
   {
    "duration": 6,
    "start_time": "2023-08-15T16:21:33.472Z"
   },
   {
    "duration": 57,
    "start_time": "2023-08-15T16:21:34.491Z"
   },
   {
    "duration": 5,
    "start_time": "2023-08-15T16:21:34.960Z"
   },
   {
    "duration": 16,
    "start_time": "2023-08-15T16:21:35.248Z"
   },
   {
    "duration": 194,
    "start_time": "2023-08-15T16:21:35.470Z"
   },
   {
    "duration": 13,
    "start_time": "2023-08-15T16:21:35.917Z"
   },
   {
    "duration": 11,
    "start_time": "2023-08-15T16:21:36.154Z"
   },
   {
    "duration": 11,
    "start_time": "2023-08-15T16:21:36.396Z"
   },
   {
    "duration": 11,
    "start_time": "2023-08-15T16:21:37.129Z"
   },
   {
    "duration": 4,
    "start_time": "2023-08-15T16:21:57.347Z"
   },
   {
    "duration": 5,
    "start_time": "2023-08-15T16:22:38.694Z"
   },
   {
    "duration": 3210,
    "start_time": "2023-08-15T16:22:55.552Z"
   },
   {
    "duration": 67272,
    "start_time": "2023-08-15T16:23:03.577Z"
   },
   {
    "duration": 817,
    "start_time": "2023-08-15T16:24:10.857Z"
   },
   {
    "duration": 128,
    "start_time": "2023-08-15T16:24:11.676Z"
   },
   {
    "duration": 10,
    "start_time": "2023-08-15T16:32:00.002Z"
   },
   {
    "duration": 10,
    "start_time": "2023-08-15T16:34:47.102Z"
   },
   {
    "duration": 101,
    "start_time": "2023-08-15T16:38:26.642Z"
   },
   {
    "duration": 7,
    "start_time": "2023-08-15T16:38:53.322Z"
   },
   {
    "duration": 106,
    "start_time": "2023-08-15T16:38:56.389Z"
   },
   {
    "duration": 193,
    "start_time": "2023-08-15T16:39:13.510Z"
   },
   {
    "duration": 7,
    "start_time": "2023-08-15T16:40:02.940Z"
   },
   {
    "duration": 37,
    "start_time": "2023-08-15T16:40:53.815Z"
   },
   {
    "duration": 61,
    "start_time": "2023-08-15T17:02:46.096Z"
   },
   {
    "duration": 2998,
    "start_time": "2023-08-15T17:39:34.088Z"
   },
   {
    "duration": 100,
    "start_time": "2023-08-15T17:39:37.088Z"
   },
   {
    "duration": 14,
    "start_time": "2023-08-15T17:39:37.190Z"
   },
   {
    "duration": 90,
    "start_time": "2023-08-15T17:39:37.206Z"
   },
   {
    "duration": 22,
    "start_time": "2023-08-15T17:39:37.299Z"
   },
   {
    "duration": 32,
    "start_time": "2023-08-15T17:39:37.322Z"
   },
   {
    "duration": 18,
    "start_time": "2023-08-15T17:39:37.356Z"
   },
   {
    "duration": 77,
    "start_time": "2023-08-15T17:39:37.377Z"
   },
   {
    "duration": 63,
    "start_time": "2023-08-15T17:39:37.457Z"
   },
   {
    "duration": 111,
    "start_time": "2023-08-15T17:39:37.523Z"
   },
   {
    "duration": 182,
    "start_time": "2023-08-15T17:39:37.637Z"
   },
   {
    "duration": 44,
    "start_time": "2023-08-15T17:39:37.821Z"
   },
   {
    "duration": 171,
    "start_time": "2023-08-15T17:39:37.868Z"
   },
   {
    "duration": 64,
    "start_time": "2023-08-15T17:39:38.043Z"
   },
   {
    "duration": 65,
    "start_time": "2023-08-15T17:39:38.109Z"
   },
   {
    "duration": 32,
    "start_time": "2023-08-15T17:39:38.176Z"
   },
   {
    "duration": 133,
    "start_time": "2023-08-15T17:39:38.210Z"
   },
   {
    "duration": 394,
    "start_time": "2023-08-15T17:39:38.345Z"
   },
   {
    "duration": 151,
    "start_time": "2023-08-15T17:39:38.742Z"
   },
   {
    "duration": 158,
    "start_time": "2023-08-15T17:39:38.894Z"
   },
   {
    "duration": 9,
    "start_time": "2023-08-15T17:39:39.054Z"
   },
   {
    "duration": 21,
    "start_time": "2023-08-15T17:39:39.065Z"
   },
   {
    "duration": 136,
    "start_time": "2023-08-15T17:39:39.088Z"
   },
   {
    "duration": 7,
    "start_time": "2023-08-15T17:39:39.226Z"
   },
   {
    "duration": 93,
    "start_time": "2023-08-15T17:39:39.234Z"
   },
   {
    "duration": 82,
    "start_time": "2023-08-15T17:39:39.328Z"
   },
   {
    "duration": 127,
    "start_time": "2023-08-15T17:39:39.412Z"
   },
   {
    "duration": 269,
    "start_time": "2023-08-15T17:39:39.540Z"
   },
   {
    "duration": 3779,
    "start_time": "2023-08-15T17:39:39.811Z"
   },
   {
    "duration": 72087,
    "start_time": "2023-08-15T17:39:43.591Z"
   },
   {
    "duration": 1024,
    "start_time": "2023-08-15T17:40:55.680Z"
   },
   {
    "duration": 40,
    "start_time": "2023-08-15T17:40:56.707Z"
   },
   {
    "duration": 1469,
    "start_time": "2023-08-15T18:44:23.573Z"
   },
   {
    "duration": 113,
    "start_time": "2023-08-15T18:44:25.044Z"
   },
   {
    "duration": 17,
    "start_time": "2023-08-15T18:44:26.147Z"
   },
   {
    "duration": 40,
    "start_time": "2023-08-15T18:44:26.995Z"
   },
   {
    "duration": 4,
    "start_time": "2023-08-15T18:44:27.256Z"
   },
   {
    "duration": 5,
    "start_time": "2023-08-15T18:44:27.457Z"
   },
   {
    "duration": 6,
    "start_time": "2023-08-15T18:44:27.715Z"
   },
   {
    "duration": 6,
    "start_time": "2023-08-15T18:44:27.990Z"
   },
   {
    "duration": 8,
    "start_time": "2023-08-15T18:44:28.231Z"
   },
   {
    "duration": 97,
    "start_time": "2023-08-15T18:44:31.426Z"
   },
   {
    "duration": 4,
    "start_time": "2023-08-15T18:44:37.567Z"
   },
   {
    "duration": 10,
    "start_time": "2023-08-15T18:44:43.930Z"
   },
   {
    "duration": 5,
    "start_time": "2023-08-15T18:44:54.117Z"
   },
   {
    "duration": 17,
    "start_time": "2023-08-15T18:44:54.596Z"
   },
   {
    "duration": 11,
    "start_time": "2023-08-15T18:45:20.830Z"
   },
   {
    "duration": 5,
    "start_time": "2023-08-15T18:45:21.557Z"
   },
   {
    "duration": 8,
    "start_time": "2023-08-15T18:45:21.941Z"
   },
   {
    "duration": 4,
    "start_time": "2023-08-15T18:45:49.611Z"
   },
   {
    "duration": 232,
    "start_time": "2023-08-15T18:46:34.690Z"
   },
   {
    "duration": 125,
    "start_time": "2023-08-15T18:48:07.166Z"
   },
   {
    "duration": 110,
    "start_time": "2023-08-15T18:48:13.812Z"
   },
   {
    "duration": 9,
    "start_time": "2023-08-15T18:48:16.210Z"
   },
   {
    "duration": 6,
    "start_time": "2023-08-15T18:48:17.160Z"
   },
   {
    "duration": 106,
    "start_time": "2023-08-15T18:48:17.782Z"
   },
   {
    "duration": 6,
    "start_time": "2023-08-15T18:48:21.243Z"
   },
   {
    "duration": 11,
    "start_time": "2023-08-15T19:00:14.330Z"
   },
   {
    "duration": 9,
    "start_time": "2023-08-15T19:01:03.173Z"
   },
   {
    "duration": 9,
    "start_time": "2023-08-15T19:01:06.411Z"
   },
   {
    "duration": 3,
    "start_time": "2023-08-15T19:01:23.240Z"
   },
   {
    "duration": 23,
    "start_time": "2023-08-15T19:01:38.156Z"
   },
   {
    "duration": 17,
    "start_time": "2023-08-15T19:01:49.135Z"
   },
   {
    "duration": 18,
    "start_time": "2023-08-15T19:02:22.629Z"
   },
   {
    "duration": 40,
    "start_time": "2023-08-15T19:02:35.991Z"
   },
   {
    "duration": 33,
    "start_time": "2023-08-15T19:05:39.080Z"
   },
   {
    "duration": 4,
    "start_time": "2023-08-15T19:06:17.666Z"
   },
   {
    "duration": 10,
    "start_time": "2023-08-15T19:07:21.229Z"
   },
   {
    "duration": 91,
    "start_time": "2023-08-15T19:09:38.714Z"
   },
   {
    "duration": 2125,
    "start_time": "2023-08-15T19:10:10.611Z"
   },
   {
    "duration": 44707,
    "start_time": "2023-08-15T19:10:26.911Z"
   },
   {
    "duration": 247,
    "start_time": "2023-08-15T19:11:24.879Z"
   },
   {
    "duration": 257,
    "start_time": "2023-08-15T19:12:19.882Z"
   },
   {
    "duration": 14,
    "start_time": "2023-08-15T19:13:04.256Z"
   },
   {
    "duration": 50,
    "start_time": "2023-08-15T19:16:25.712Z"
   },
   {
    "duration": 10,
    "start_time": "2023-08-15T19:16:28.016Z"
   },
   {
    "duration": 34,
    "start_time": "2023-08-15T19:16:28.622Z"
   },
   {
    "duration": 5,
    "start_time": "2023-08-15T19:16:28.911Z"
   },
   {
    "duration": 4,
    "start_time": "2023-08-15T19:16:29.142Z"
   },
   {
    "duration": 4,
    "start_time": "2023-08-15T19:16:29.366Z"
   },
   {
    "duration": 6,
    "start_time": "2023-08-15T19:16:29.578Z"
   },
   {
    "duration": 8,
    "start_time": "2023-08-15T19:16:29.767Z"
   },
   {
    "duration": 4,
    "start_time": "2023-08-15T19:16:31.811Z"
   },
   {
    "duration": 11,
    "start_time": "2023-08-15T19:16:36.122Z"
   },
   {
    "duration": 5,
    "start_time": "2023-08-15T19:16:39.063Z"
   },
   {
    "duration": 9,
    "start_time": "2023-08-15T19:16:49.916Z"
   },
   {
    "duration": 24,
    "start_time": "2023-08-15T19:16:56.794Z"
   },
   {
    "duration": 5,
    "start_time": "2023-08-15T19:17:00.811Z"
   },
   {
    "duration": 6,
    "start_time": "2023-08-15T19:17:02.962Z"
   },
   {
    "duration": 4,
    "start_time": "2023-08-15T19:17:10.295Z"
   },
   {
    "duration": 110,
    "start_time": "2023-08-15T19:17:34.114Z"
   },
   {
    "duration": 187,
    "start_time": "2023-08-15T19:18:09.383Z"
   },
   {
    "duration": 28,
    "start_time": "2023-08-15T19:20:15.095Z"
   },
   {
    "duration": 105,
    "start_time": "2023-08-15T19:20:19.314Z"
   },
   {
    "duration": 127,
    "start_time": "2023-08-15T19:20:25.288Z"
   },
   {
    "duration": 7,
    "start_time": "2023-08-15T19:20:50.475Z"
   },
   {
    "duration": 5,
    "start_time": "2023-08-15T19:20:55.647Z"
   },
   {
    "duration": 106,
    "start_time": "2023-08-15T19:21:03.621Z"
   },
   {
    "duration": 5,
    "start_time": "2023-08-15T19:21:07.873Z"
   },
   {
    "duration": 23,
    "start_time": "2023-08-15T19:21:19.934Z"
   },
   {
    "duration": 24,
    "start_time": "2023-08-15T19:21:30.433Z"
   },
   {
    "duration": 4,
    "start_time": "2023-08-15T19:21:42.086Z"
   },
   {
    "duration": 11,
    "start_time": "2023-08-15T19:21:46.216Z"
   },
   {
    "duration": 26,
    "start_time": "2023-08-15T19:21:54.466Z"
   },
   {
    "duration": 2163,
    "start_time": "2023-08-15T19:22:16.219Z"
   },
   {
    "duration": 2189,
    "start_time": "2023-08-15T19:23:13.642Z"
   },
   {
    "duration": 45983,
    "start_time": "2023-08-15T19:23:18.559Z"
   },
   {
    "duration": 77,
    "start_time": "2023-08-15T19:26:14.836Z"
   },
   {
    "duration": 73,
    "start_time": "2023-08-15T19:26:44.650Z"
   },
   {
    "duration": 73,
    "start_time": "2023-08-15T19:26:54.590Z"
   },
   {
    "duration": 2057,
    "start_time": "2023-08-15T19:27:02.413Z"
   },
   {
    "duration": 44158,
    "start_time": "2023-08-15T19:27:12.298Z"
   },
   {
    "duration": 256,
    "start_time": "2023-08-15T19:28:00.574Z"
   },
   {
    "duration": 13,
    "start_time": "2023-08-15T19:28:26.354Z"
   },
   {
    "duration": 292,
    "start_time": "2023-08-15T19:28:46.720Z"
   },
   {
    "duration": 1699,
    "start_time": "2023-08-15T19:43:05.856Z"
   },
   {
    "duration": 34276,
    "start_time": "2023-08-15T19:43:41.515Z"
   },
   {
    "duration": 190,
    "start_time": "2023-08-15T19:44:51.251Z"
   },
   {
    "duration": 207,
    "start_time": "2023-08-15T19:45:49.410Z"
   },
   {
    "duration": 200,
    "start_time": "2023-08-15T19:46:15.776Z"
   },
   {
    "duration": 4,
    "start_time": "2023-08-15T19:47:43.727Z"
   },
   {
    "duration": 48,
    "start_time": "2023-08-15T19:47:44.347Z"
   },
   {
    "duration": 25,
    "start_time": "2023-08-15T19:47:44.799Z"
   },
   {
    "duration": 38,
    "start_time": "2023-08-15T19:47:45.183Z"
   },
   {
    "duration": 5,
    "start_time": "2023-08-15T19:47:45.365Z"
   },
   {
    "duration": 5,
    "start_time": "2023-08-15T19:47:45.581Z"
   },
   {
    "duration": 5,
    "start_time": "2023-08-15T19:47:45.781Z"
   },
   {
    "duration": 8,
    "start_time": "2023-08-15T19:47:45.960Z"
   },
   {
    "duration": 9,
    "start_time": "2023-08-15T19:47:46.158Z"
   },
   {
    "duration": 4,
    "start_time": "2023-08-15T19:47:46.920Z"
   },
   {
    "duration": 15,
    "start_time": "2023-08-15T19:47:47.338Z"
   },
   {
    "duration": 5,
    "start_time": "2023-08-15T19:47:47.525Z"
   },
   {
    "duration": 10,
    "start_time": "2023-08-15T19:47:47.918Z"
   },
   {
    "duration": 12,
    "start_time": "2023-08-15T19:47:48.549Z"
   },
   {
    "duration": 5,
    "start_time": "2023-08-15T19:47:48.943Z"
   },
   {
    "duration": 8,
    "start_time": "2023-08-15T19:47:49.165Z"
   },
   {
    "duration": 3,
    "start_time": "2023-08-15T19:47:49.994Z"
   },
   {
    "duration": 33,
    "start_time": "2023-08-15T19:47:52.086Z"
   },
   {
    "duration": 109,
    "start_time": "2023-08-15T19:47:52.330Z"
   },
   {
    "duration": 115,
    "start_time": "2023-08-15T19:47:53.811Z"
   },
   {
    "duration": 7,
    "start_time": "2023-08-15T19:47:54.444Z"
   },
   {
    "duration": 5,
    "start_time": "2023-08-15T19:47:55.115Z"
   },
   {
    "duration": 115,
    "start_time": "2023-08-15T19:47:55.499Z"
   },
   {
    "duration": 7,
    "start_time": "2023-08-15T19:47:56.022Z"
   },
   {
    "duration": 25,
    "start_time": "2023-08-15T19:47:56.761Z"
   },
   {
    "duration": 42,
    "start_time": "2023-08-15T19:48:03.882Z"
   },
   {
    "duration": 3,
    "start_time": "2023-08-15T19:48:34.119Z"
   },
   {
    "duration": 8,
    "start_time": "2023-08-15T19:48:37.385Z"
   },
   {
    "duration": 28,
    "start_time": "2023-08-15T19:48:55.310Z"
   },
   {
    "duration": 2136,
    "start_time": "2023-08-15T19:49:36.628Z"
   },
   {
    "duration": 44983,
    "start_time": "2023-08-15T19:50:08.298Z"
   },
   {
    "duration": 261,
    "start_time": "2023-08-15T19:51:27.842Z"
   },
   {
    "duration": 1570,
    "start_time": "2023-08-15T19:51:40.054Z"
   },
   {
    "duration": 32027,
    "start_time": "2023-08-15T19:51:49.591Z"
   },
   {
    "duration": 186,
    "start_time": "2023-08-15T19:52:48.626Z"
   },
   {
    "duration": 236,
    "start_time": "2023-08-15T19:53:22.955Z"
   },
   {
    "duration": 184,
    "start_time": "2023-08-15T19:53:38.758Z"
   },
   {
    "duration": 2902,
    "start_time": "2023-08-16T04:36:10.155Z"
   },
   {
    "duration": 99,
    "start_time": "2023-08-16T04:36:13.059Z"
   },
   {
    "duration": 13,
    "start_time": "2023-08-16T04:36:13.160Z"
   },
   {
    "duration": 42,
    "start_time": "2023-08-16T04:36:13.174Z"
   },
   {
    "duration": 4,
    "start_time": "2023-08-16T04:36:13.218Z"
   },
   {
    "duration": 18,
    "start_time": "2023-08-16T04:36:13.223Z"
   },
   {
    "duration": 12,
    "start_time": "2023-08-16T04:36:13.242Z"
   },
   {
    "duration": 25,
    "start_time": "2023-08-16T04:36:13.255Z"
   },
   {
    "duration": 8,
    "start_time": "2023-08-16T04:36:13.282Z"
   },
   {
    "duration": 10,
    "start_time": "2023-08-16T04:36:13.291Z"
   },
   {
    "duration": 26,
    "start_time": "2023-08-16T04:36:13.302Z"
   },
   {
    "duration": 9,
    "start_time": "2023-08-16T04:36:13.330Z"
   },
   {
    "duration": 18,
    "start_time": "2023-08-16T04:36:13.341Z"
   },
   {
    "duration": 19,
    "start_time": "2023-08-16T04:36:13.362Z"
   },
   {
    "duration": 8,
    "start_time": "2023-08-16T04:36:13.383Z"
   },
   {
    "duration": 14,
    "start_time": "2023-08-16T04:36:13.392Z"
   },
   {
    "duration": 8,
    "start_time": "2023-08-16T04:36:13.407Z"
   },
   {
    "duration": 34,
    "start_time": "2023-08-16T04:36:13.417Z"
   },
   {
    "duration": 272,
    "start_time": "2023-08-16T04:36:13.453Z"
   },
   {
    "duration": 117,
    "start_time": "2023-08-16T04:36:13.727Z"
   },
   {
    "duration": 0,
    "start_time": "2023-08-16T04:36:13.846Z"
   },
   {
    "duration": 0,
    "start_time": "2023-08-16T04:36:13.848Z"
   },
   {
    "duration": 0,
    "start_time": "2023-08-16T04:36:13.849Z"
   },
   {
    "duration": 0,
    "start_time": "2023-08-16T04:36:13.851Z"
   },
   {
    "duration": 0,
    "start_time": "2023-08-16T04:36:13.852Z"
   },
   {
    "duration": 0,
    "start_time": "2023-08-16T04:36:13.853Z"
   },
   {
    "duration": 0,
    "start_time": "2023-08-16T04:36:13.855Z"
   },
   {
    "duration": 0,
    "start_time": "2023-08-16T04:36:13.856Z"
   },
   {
    "duration": 0,
    "start_time": "2023-08-16T04:36:13.858Z"
   },
   {
    "duration": 0,
    "start_time": "2023-08-16T04:36:13.859Z"
   },
   {
    "duration": 0,
    "start_time": "2023-08-16T04:36:13.861Z"
   },
   {
    "duration": 0,
    "start_time": "2023-08-16T04:36:13.862Z"
   },
   {
    "duration": 0,
    "start_time": "2023-08-16T04:36:13.863Z"
   },
   {
    "duration": 0,
    "start_time": "2023-08-16T04:36:13.864Z"
   },
   {
    "duration": 0,
    "start_time": "2023-08-16T04:36:13.865Z"
   },
   {
    "duration": 0,
    "start_time": "2023-08-16T04:36:13.894Z"
   },
   {
    "duration": 0,
    "start_time": "2023-08-16T04:36:13.896Z"
   },
   {
    "duration": 1624,
    "start_time": "2023-08-16T06:04:57.624Z"
   },
   {
    "duration": 97,
    "start_time": "2023-08-16T06:04:59.250Z"
   },
   {
    "duration": 18,
    "start_time": "2023-08-16T06:04:59.349Z"
   },
   {
    "duration": 45,
    "start_time": "2023-08-16T06:04:59.369Z"
   },
   {
    "duration": 6,
    "start_time": "2023-08-16T06:04:59.416Z"
   },
   {
    "duration": 6,
    "start_time": "2023-08-16T06:04:59.536Z"
   },
   {
    "duration": 9,
    "start_time": "2023-08-16T06:04:59.778Z"
   },
   {
    "duration": 10,
    "start_time": "2023-08-16T06:05:00.005Z"
   },
   {
    "duration": 11,
    "start_time": "2023-08-16T06:05:00.233Z"
   },
   {
    "duration": 6,
    "start_time": "2023-08-16T06:05:01.153Z"
   },
   {
    "duration": 15,
    "start_time": "2023-08-16T06:05:02.414Z"
   },
   {
    "duration": 5,
    "start_time": "2023-08-16T06:05:02.815Z"
   },
   {
    "duration": 14,
    "start_time": "2023-08-16T06:05:03.228Z"
   },
   {
    "duration": 16,
    "start_time": "2023-08-16T06:05:04.386Z"
   },
   {
    "duration": 7,
    "start_time": "2023-08-16T06:05:04.976Z"
   },
   {
    "duration": 11,
    "start_time": "2023-08-16T06:05:05.209Z"
   },
   {
    "duration": 4,
    "start_time": "2023-08-16T06:05:06.788Z"
   },
   {
    "duration": 33,
    "start_time": "2023-08-16T06:05:12.087Z"
   },
   {
    "duration": 139,
    "start_time": "2023-08-16T06:05:13.170Z"
   },
   {
    "duration": 123,
    "start_time": "2023-08-16T06:05:16.076Z"
   },
   {
    "duration": 29,
    "start_time": "2023-08-16T06:05:35.687Z"
   },
   {
    "duration": 135,
    "start_time": "2023-08-16T06:05:36.617Z"
   },
   {
    "duration": 127,
    "start_time": "2023-08-16T06:05:38.821Z"
   },
   {
    "duration": 9,
    "start_time": "2023-08-16T06:05:43.808Z"
   },
   {
    "duration": 6,
    "start_time": "2023-08-16T06:05:45.228Z"
   },
   {
    "duration": 108,
    "start_time": "2023-08-16T06:05:46.170Z"
   },
   {
    "duration": 7,
    "start_time": "2023-08-16T06:05:47.940Z"
   },
   {
    "duration": 33,
    "start_time": "2023-08-16T06:06:24.204Z"
   },
   {
    "duration": 32,
    "start_time": "2023-08-16T06:06:44.858Z"
   },
   {
    "duration": 100,
    "start_time": "2023-08-16T06:07:01.412Z"
   },
   {
    "duration": 5,
    "start_time": "2023-08-16T06:07:05.841Z"
   },
   {
    "duration": 13,
    "start_time": "2023-08-16T06:07:11.385Z"
   },
   {
    "duration": 37,
    "start_time": "2023-08-16T06:07:15.401Z"
   },
   {
    "duration": 1925,
    "start_time": "2023-08-16T06:07:22.884Z"
   },
   {
    "duration": 43184,
    "start_time": "2023-08-16T06:07:24.811Z"
   },
   {
    "duration": 262,
    "start_time": "2023-08-16T06:08:33.288Z"
   },
   {
    "duration": 1661,
    "start_time": "2023-08-16T06:08:36.928Z"
   },
   {
    "duration": 24121,
    "start_time": "2023-08-16T06:09:00.705Z"
   },
   {
    "duration": 265,
    "start_time": "2023-08-16T06:09:32.914Z"
   },
   {
    "duration": 295,
    "start_time": "2023-08-16T06:10:33.221Z"
   },
   {
    "duration": 280,
    "start_time": "2023-08-16T06:10:49.394Z"
   },
   {
    "duration": 41,
    "start_time": "2023-08-16T06:13:14.097Z"
   },
   {
    "duration": 32,
    "start_time": "2023-08-16T06:13:25.190Z"
   },
   {
    "duration": 3,
    "start_time": "2023-08-16T06:13:29.202Z"
   },
   {
    "duration": 13,
    "start_time": "2023-08-16T06:13:31.182Z"
   },
   {
    "duration": 27,
    "start_time": "2023-08-16T06:13:36.434Z"
   },
   {
    "duration": 2005,
    "start_time": "2023-08-16T06:13:43.368Z"
   },
   {
    "duration": 41044,
    "start_time": "2023-08-16T06:13:46.312Z"
   },
   {
    "duration": 264,
    "start_time": "2023-08-16T06:14:38.534Z"
   },
   {
    "duration": 1480,
    "start_time": "2023-08-16T06:14:53.829Z"
   },
   {
    "duration": 24367,
    "start_time": "2023-08-16T06:14:58.660Z"
   },
   {
    "duration": 299,
    "start_time": "2023-08-16T06:15:31.080Z"
   },
   {
    "duration": 292,
    "start_time": "2023-08-16T06:15:52.103Z"
   },
   {
    "duration": 211,
    "start_time": "2023-08-16T06:16:21.376Z"
   },
   {
    "duration": 15,
    "start_time": "2023-08-16T06:21:20.022Z"
   },
   {
    "duration": 12,
    "start_time": "2023-08-16T06:21:21.331Z"
   },
   {
    "duration": 12,
    "start_time": "2023-08-16T06:21:22.747Z"
   },
   {
    "duration": 94,
    "start_time": "2023-08-16T06:22:27.619Z"
   },
   {
    "duration": 5,
    "start_time": "2023-08-16T06:22:28.521Z"
   },
   {
    "duration": 11,
    "start_time": "2023-08-16T06:22:29.102Z"
   },
   {
    "duration": 70,
    "start_time": "2023-08-16T06:22:30.342Z"
   },
   {
    "duration": 2171,
    "start_time": "2023-08-16T06:22:33.007Z"
   },
   {
    "duration": 41968,
    "start_time": "2023-08-16T06:22:35.868Z"
   },
   {
    "duration": 265,
    "start_time": "2023-08-16T06:23:23.020Z"
   },
   {
    "duration": 264,
    "start_time": "2023-08-16T06:23:31.852Z"
   },
   {
    "duration": 206,
    "start_time": "2023-08-16T06:24:25.263Z"
   },
   {
    "duration": 4,
    "start_time": "2023-08-16T06:27:16.839Z"
   },
   {
    "duration": 51,
    "start_time": "2023-08-16T06:27:18.378Z"
   },
   {
    "duration": 13,
    "start_time": "2023-08-16T06:27:19.843Z"
   },
   {
    "duration": 41,
    "start_time": "2023-08-16T06:27:22.209Z"
   },
   {
    "duration": 6,
    "start_time": "2023-08-16T06:27:22.977Z"
   },
   {
    "duration": 5,
    "start_time": "2023-08-16T06:27:23.255Z"
   },
   {
    "duration": 8,
    "start_time": "2023-08-16T06:27:23.712Z"
   },
   {
    "duration": 8,
    "start_time": "2023-08-16T06:27:24.573Z"
   },
   {
    "duration": 10,
    "start_time": "2023-08-16T06:27:24.772Z"
   },
   {
    "duration": 5,
    "start_time": "2023-08-16T06:27:29.535Z"
   },
   {
    "duration": 15,
    "start_time": "2023-08-16T06:27:44.178Z"
   },
   {
    "duration": 6,
    "start_time": "2023-08-16T06:27:45.736Z"
   },
   {
    "duration": 13,
    "start_time": "2023-08-16T06:27:46.443Z"
   },
   {
    "duration": 12,
    "start_time": "2023-08-16T06:27:57.802Z"
   },
   {
    "duration": 5,
    "start_time": "2023-08-16T06:28:12.058Z"
   },
   {
    "duration": 8,
    "start_time": "2023-08-16T06:28:35.615Z"
   },
   {
    "duration": 5,
    "start_time": "2023-08-16T06:28:39.324Z"
   },
   {
    "duration": 37,
    "start_time": "2023-08-16T06:28:59.761Z"
   },
   {
    "duration": 170,
    "start_time": "2023-08-16T06:29:16.457Z"
   },
   {
    "duration": 116,
    "start_time": "2023-08-16T06:29:23.592Z"
   },
   {
    "duration": 12,
    "start_time": "2023-08-16T06:29:39.482Z"
   },
   {
    "duration": 9,
    "start_time": "2023-08-16T06:29:43.565Z"
   },
   {
    "duration": 120,
    "start_time": "2023-08-16T06:29:48.231Z"
   },
   {
    "duration": 6,
    "start_time": "2023-08-16T06:29:54.866Z"
   },
   {
    "duration": 24,
    "start_time": "2023-08-16T06:30:46.192Z"
   },
   {
    "duration": 17,
    "start_time": "2023-08-16T06:34:53.122Z"
   },
   {
    "duration": 17,
    "start_time": "2023-08-16T06:35:32.607Z"
   },
   {
    "duration": 33,
    "start_time": "2023-08-16T06:35:40.929Z"
   },
   {
    "duration": 5,
    "start_time": "2023-08-16T06:35:45.510Z"
   },
   {
    "duration": 11,
    "start_time": "2023-08-16T06:35:46.701Z"
   },
   {
    "duration": 32,
    "start_time": "2023-08-16T06:35:48.847Z"
   },
   {
    "duration": 1894,
    "start_time": "2023-08-16T06:35:50.509Z"
   },
   {
    "duration": 41020,
    "start_time": "2023-08-16T06:35:52.409Z"
   },
   {
    "duration": 255,
    "start_time": "2023-08-16T06:36:41.574Z"
   },
   {
    "duration": 1508,
    "start_time": "2023-08-16T06:36:45.496Z"
   },
   {
    "duration": 23101,
    "start_time": "2023-08-16T06:36:50.800Z"
   },
   {
    "duration": 264,
    "start_time": "2023-08-16T06:37:23.460Z"
   },
   {
    "duration": 233,
    "start_time": "2023-08-16T06:37:40.783Z"
   },
   {
    "duration": 277,
    "start_time": "2023-08-16T06:38:00.683Z"
   }
  ],
  "kernelspec": {
   "display_name": "Python 3 (ipykernel)",
   "language": "python",
   "name": "python3"
  },
  "language_info": {
   "codemirror_mode": {
    "name": "ipython",
    "version": 3
   },
   "file_extension": ".py",
   "mimetype": "text/x-python",
   "name": "python",
   "nbconvert_exporter": "python",
   "pygments_lexer": "ipython3",
   "version": "3.10.9"
  },
  "toc": {
   "base_numbering": 1,
   "nav_menu": {},
   "number_sections": true,
   "sideBar": true,
   "skip_h1_title": true,
   "title_cell": "Содержание",
   "title_sidebar": "Contents",
   "toc_cell": true,
   "toc_position": {
    "height": "calc(100% - 180px)",
    "left": "10px",
    "top": "150px",
    "width": "165px"
   },
   "toc_section_display": true,
   "toc_window_display": true
  }
 },
 "nbformat": 4,
 "nbformat_minor": 2
}
